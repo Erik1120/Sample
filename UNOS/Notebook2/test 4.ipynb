{
 "cells": [
  {
   "cell_type": "code",
   "execution_count": 1,
   "id": "0e68be90-ca03-4a87-b7da-1902ed71017f",
   "metadata": {},
   "outputs": [],
   "source": [
    "def test():\n",
    "    print(\"123\")"
   ]
  },
  {
   "cell_type": "code",
   "execution_count": 2,
   "id": "cbbcf183-5f84-4879-9f9b-538643809492",
   "metadata": {},
   "outputs": [],
   "source": [
    "def test1():\n",
    "    print(\"456\")"
   ]
  },
  {
   "cell_type": "code",
   "execution_count": null,
   "id": "d82ac67b-e11e-41c9-9d21-81b78225204d",
   "metadata": {},
   "outputs": [],
   "source": []
  }
 ],
 "metadata": {
  "kernelspec": {
   "display_name": "Python 3 (ipykernel)",
   "language": "python",
   "name": "python3"
  },
  "language_info": {
   "codemirror_mode": {
    "name": "ipython",
    "version": 3
   },
   "file_extension": ".py",
   "mimetype": "text/x-python",
   "name": "python",
   "nbconvert_exporter": "python",
   "pygments_lexer": "ipython3",
   "version": "3.12.6"
  }
 },
 "nbformat": 4,
 "nbformat_minor": 5
}
