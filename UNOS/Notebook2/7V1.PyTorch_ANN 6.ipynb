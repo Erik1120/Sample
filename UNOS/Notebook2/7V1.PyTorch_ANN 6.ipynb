{
 "cells": [
  {
   "cell_type": "code",
   "execution_count": 1,
   "id": "3b9797d7-1d9a-4aff-bd3b-8a73c68cb13b",
   "metadata": {},
   "outputs": [
    {
     "name": "stdout",
     "output_type": "stream",
     "text": [
      "PyTorch Version: 2.5.1\n",
      "Numpy Version: 2.1.3\n",
      "Pandas Version: 2.2.3\n",
      "Seaborn Version: 0.13.2\n",
      "Matplotlib Version: 3.9.2\n",
      "Python Version: 3.11.10\n"
     ]
    }
   ],
   "source": [
    "from platform import python_version\n",
    "\n",
    "import pandas as pd\n",
    "import numpy as np\n",
    "import matplotlib.pyplot as plt\n",
    "import seaborn as sns\n",
    "\n",
    "# seed\n",
    "RANDOM_STATE = 1776\n",
    "notebook = 'PyTorch'\n",
    "\n",
    "# import user functions\n",
    "import PyTorchUserFunctions as uf\n",
    "import Visualization as vi\n",
    "\n",
    "# set seaborn theme\n",
    "sns.set_theme()\n",
    "\n",
    "import torch\n",
    "import torch.nn as nn\n",
    "import torch.optim as optim\n",
    "from torch.utils.data import DataLoader, WeightedRandomSampler, TensorDataset\n",
    "import torch.nn.functional as F\n",
    "import torch.optim as optim\n",
    "from sklearn import metrics\n",
    "from sklearn.model_selection import train_test_split\n",
    "\n",
    "# import MinMax Scaler library\n",
    "from sklearn.preprocessing import MinMaxScaler\n",
    "\n",
    "# print versions\n",
    "print(\"PyTorch Version: \" + torch.__version__)\n",
    "print(\"Numpy Version: \" + np.__version__)\n",
    "print(\"Pandas Version: \" + pd.__version__)\n",
    "print(\"Seaborn Version: \" + sns.__version__)\n",
    "print(\"Matplotlib Version: \" + plt.matplotlib.__version__)\n",
    "print(\"Python Version: \" + python_version())\n",
    "\n",
    "# adjust pandas display options to max\n",
    "pd.set_option('display.max_rows', None)\n",
    "pd.set_option('display.max_columns', None)\n",
    "# adjust pandas display options to ensure full display of content\n",
    "pd.set_option('display.max_colwidth', None)"
   ]
  },
  {
   "cell_type": "code",
   "execution_count": 2,
   "id": "a0c654ee-9ef4-4490-8091-afc25eb93c17",
   "metadata": {},
   "outputs": [
    {
     "name": "stdout",
     "output_type": "stream",
     "text": [
      "Index([], dtype='object')\n"
     ]
    }
   ],
   "source": [
    "# data file\n",
    "df = pd.read_pickle(\"../Data/Version1_Consolidated.pkl\")\n",
    "\n",
    "# remove columns\n",
    "df_remove = pd.read_pickle(\"../Data/Version1_Consolidated_colRemove.pkl\")\n",
    "\n",
    "# data label\n",
    "df_label = pd.read_pickle(\"../Data/Version1_Consolidated_colLabel.pkl\")\n",
    "\n",
    "# don columns\n",
    "df_don = pd.read_pickle(\"../Data/Version1_Consolidated_DONColumn.pkl\")\n",
    "\n",
    "# can columns\n",
    "df_can = pd.read_pickle(\"../Data/Version1_Consolidated_CANColumn.pkl\")\n",
    "\n",
    "# both columns\n",
    "df_both = pd.read_pickle(\"../Data/Version1_Consolidated_BothColumn.pkl\")\n",
    "\n",
    "# nominal columns\n",
    "df_nominal = pd.read_pickle(\"../Data/Version1_Consolidated_NominalColumn.pkl\")\n",
    "\n",
    "# ordinal columns\n",
    "df_ordinal = pd.read_pickle(\"../Data/Version1_Consolidated_OrdinalColumn.pkl\")\n",
    "\n",
    "# data dictionary\n",
    "df_dict = pd.read_pickle(\"../Data/Version1_Consolidated_FinalcolumnDefinition.pkl\")\n",
    "\n",
    "# import flat file\n",
    "df_flat = pd.read_csv(\"../Data/flatfile.csv\")\n",
    "\n",
    "# checking for duplicated column name\n",
    "print(df.columns[df.columns.duplicated()])"
   ]
  },
  {
   "cell_type": "code",
   "execution_count": 3,
   "id": "7ad3f12f-98ba-489f-9a2c-c09c7f4bb6b3",
   "metadata": {},
   "outputs": [
    {
     "name": "stdout",
     "output_type": "stream",
     "text": [
      "Data Dictionary Updated.\n",
      "Remove row(s) from df_remove DataFrame.\n",
      "Remove row(s) from df_label DataFrame.\n",
      "Remove row(s) from df_can DataFrame.\n",
      "Remove row(s) from df_don DataFrame.\n",
      "Remove row(s) from df_both DataFrame.\n",
      "Remove row(s) from df_ordinal DataFrame.\n",
      "Remove row(s) from df_nominal DataFrame.\n",
      "\n",
      "Removed Features:['Age_CAN', 'Age_DON', 'Age_Listing_CAN', 'AllocationType', 'AntigenBW4_CAN', 'AntigenBW6_CAN', 'AntigenC1_CAN', 'AntigenC2_CAN', 'AntigenDQ1_CAN', 'AntigenDQ2_CAN', 'AntigenDR51_2_CAN', 'AntigenDR51_CAN', 'AntigenDR52_2_CAN', 'AntigenDR52_CAN', 'AntigenDR53_2_CAN', 'AntigenDR53_CAN', 'BMI_CAN', 'BMI_DON', 'BloodGroup_CAN', 'BloodGroup_DON', 'BronchoscopyLeft_DON', 'BronchoscopyRight_DON', 'CPRA_Peak', 'CPRA_Recent', 'CancerExtraCranial_DON', 'CancerHistory_DON', 'CancerIntraCranial_DON', 'CancerSite_DON', 'CancerSkin_DON', 'Citizenship_CAN', 'Citizenship_DON', 'CocaineUse_DON', 'CreatinineListing_CAN', 'CreatinineTransplant_CAN', 'Creatinine_DON', 'DiagnosisAtListing_CAN', 'DialysisPriorListing_CAN', 'DialysisTypeRegistration_CAN', 'Ethnicity_CAN', 'Ethnicity_DON', 'FunctionalStatusRegistration_CAN', 'FunctionalStatusTransplant_CAN', 'Gender_CAN', 'Gender_DON', 'HIV_Risk_DON', 'HeightCm_CAN', 'HeightCm_DON', 'HemodynamicsRegistration_CO_CAN', 'HemodynamicsRegistration_PA_DIA_CAN', 'HemodynamicsRegistration_PA_MN_CAN', 'HemodynamicsRegistration_PCW_CAN', 'HemodynamicsRegistration_SYS_CAN', 'HemodynamicsTransplant_CO_CAN', 'HemodynamicsTransplant_PA_DIA_CAN', 'HemodynamicsTransplant_PA_MN_CAN', 'HemodynamicsTransplant_PCW_CAN', 'HemodynamicsTransplant_SYS_CAN', 'IntropesIVRegistration_CAN', 'IntropesIVTransplant_CAN', 'IntropesVasodilatorsListing_CO_CAN', 'IntropesVasodilatorsListing_DIA_CAN', 'IntropesVasodilatorsListing_MN_CAN', 'IntropesVasodilatorsListing_PCW_CAN', 'IntropesVasodilatorsListing_SYS_CAN', 'IntropesVasodilatorsTransplant_CO_CAN', 'IntropesVasodilatorsTransplant_DIA_CAN', 'IntropesVasodilatorsTransplant_MN_CAN', 'IntropesVasodilatorsTransplant_PCW_CAN', 'IntropesVasodilatorsTransplant_SYS_CAN', 'Level_SGOT_ALT_DON', 'Level_SGOT_AST_DON', 'LifeSupportInhaledListing_CAN', 'LifeSupportRegistration_CAN', 'LifeSupportRegistration_ECMO_CAN', 'LifeSupportRegistration_IABP_CAN', 'LifeSupportRegistration_OTHER_CAN', 'LifeSupportRegistration_PGE_CAN', 'LungPO2_DON', 'LungPO2_FIO2_DON', 'OtherDrugUse_DON', 'PastCocaineUse_DON', 'PastOtherDrugUse_DON', 'PreviousTransplantAnyOrgan_CAN', 'PreviousTransplantSameOrgan_CAN', 'PriorCardiacSurgeryListAndTransplant_CAN', 'PriorCardiacSurgeryType_CAN', 'PriorCardiacSurgery_CAN', 'TotalBilirubin_CAN', 'TotalBilirubin_DON', 'VentilatorRegistratyion_CAN', 'WaitListDiagnosisCode_CAN', 'WeightKg_CAN', 'WeightKg_DON', 'WorkIncomeRegistration_CAN', 'WorkIncomeTransplant_CAN']\n",
      "\n",
      "Total rows before: 15,284 & columns: 250\n",
      "Total rows after: 15,284 & columns: 155\n"
     ]
    }
   ],
   "source": [
    "# get remove Features\n",
    "removeCol = df_remove.remove.to_list()\n",
    "\n",
    "# house keeping\n",
    "df, df_dict, df_remove, df_label, df_can, df_don, df_both, df_ordinal,  df_nominal = uf.HouseKeeping(df, removeCol, df_dict, df_remove, \\\n",
    "                                                                                                     df_label, df_can, df_don, df_both,\\\n",
    "                                                                                                     df_ordinal,  df_nominal, notebook)"
   ]
  },
  {
   "cell_type": "code",
   "execution_count": 4,
   "id": "ab96dcad-bcdb-4c73-ae17-4a2fa1d18e1e",
   "metadata": {},
   "outputs": [
    {
     "data": {
      "text/html": [
       "<div>\n",
       "<style scoped>\n",
       "    .dataframe tbody tr th:only-of-type {\n",
       "        vertical-align: middle;\n",
       "    }\n",
       "\n",
       "    .dataframe tbody tr th {\n",
       "        vertical-align: top;\n",
       "    }\n",
       "\n",
       "    .dataframe thead th {\n",
       "        text-align: right;\n",
       "    }\n",
       "</style>\n",
       "<table border=\"1\" class=\"dataframe\">\n",
       "  <thead>\n",
       "    <tr style=\"text-align: right;\">\n",
       "      <th></th>\n",
       "      <th>label</th>\n",
       "    </tr>\n",
       "  </thead>\n",
       "  <tbody>\n",
       "    <tr>\n",
       "      <th>0</th>\n",
       "      <td>FunctionalStatusFollowUp</td>\n",
       "    </tr>\n",
       "    <tr>\n",
       "      <th>1</th>\n",
       "      <td>DialysisPriorDischarge</td>\n",
       "    </tr>\n",
       "    <tr>\n",
       "      <th>2</th>\n",
       "      <td>AirwayDehiscencePostTransplant</td>\n",
       "    </tr>\n",
       "    <tr>\n",
       "      <th>3</th>\n",
       "      <td>AcuteRejectionEpisode</td>\n",
       "    </tr>\n",
       "    <tr>\n",
       "      <th>4</th>\n",
       "      <td>StrokePostTransplant</td>\n",
       "    </tr>\n",
       "    <tr>\n",
       "      <th>5</th>\n",
       "      <td>PacemakerPostTransplant</td>\n",
       "    </tr>\n",
       "    <tr>\n",
       "      <th>6</th>\n",
       "      <td>GraftFailed</td>\n",
       "    </tr>\n",
       "    <tr>\n",
       "      <th>7</th>\n",
       "      <td>GraftLifeSpanDay</td>\n",
       "    </tr>\n",
       "    <tr>\n",
       "      <th>8</th>\n",
       "      <td>LastFollowupNumber</td>\n",
       "    </tr>\n",
       "    <tr>\n",
       "      <th>9</th>\n",
       "      <td>TransplantStatus</td>\n",
       "    </tr>\n",
       "    <tr>\n",
       "      <th>10</th>\n",
       "      <td>TransplantSurvivalDay</td>\n",
       "    </tr>\n",
       "    <tr>\n",
       "      <th>11</th>\n",
       "      <td>RecipientStatus</td>\n",
       "    </tr>\n",
       "    <tr>\n",
       "      <th>12</th>\n",
       "      <td>RejectionTreatmentWithinOneYear</td>\n",
       "    </tr>\n",
       "    <tr>\n",
       "      <th>13</th>\n",
       "      <td>GraftStatus</td>\n",
       "    </tr>\n",
       "    <tr>\n",
       "      <th>14</th>\n",
       "      <td>LengthOfStay</td>\n",
       "    </tr>\n",
       "    <tr>\n",
       "      <th>15</th>\n",
       "      <td>AcuteRejection</td>\n",
       "    </tr>\n",
       "    <tr>\n",
       "      <th>16</th>\n",
       "      <td>FunctionalStatusFollowUp_Combined</td>\n",
       "    </tr>\n",
       "  </tbody>\n",
       "</table>\n",
       "</div>"
      ],
      "text/plain": [
       "                                label\n",
       "0            FunctionalStatusFollowUp\n",
       "1              DialysisPriorDischarge\n",
       "2      AirwayDehiscencePostTransplant\n",
       "3               AcuteRejectionEpisode\n",
       "4                StrokePostTransplant\n",
       "5             PacemakerPostTransplant\n",
       "6                         GraftFailed\n",
       "7                    GraftLifeSpanDay\n",
       "8                  LastFollowupNumber\n",
       "9                    TransplantStatus\n",
       "10              TransplantSurvivalDay\n",
       "11                    RecipientStatus\n",
       "12    RejectionTreatmentWithinOneYear\n",
       "13                        GraftStatus\n",
       "14                       LengthOfStay\n",
       "15                     AcuteRejection\n",
       "16  FunctionalStatusFollowUp_Combined"
      ]
     },
     "execution_count": 4,
     "metadata": {},
     "output_type": "execute_result"
    }
   ],
   "source": [
    "df_label"
   ]
  },
  {
   "cell_type": "code",
   "execution_count": 5,
   "id": "25972db0-7f4a-4f09-b483-9658df34711f",
   "metadata": {},
   "outputs": [
    {
     "name": "stdout",
     "output_type": "stream",
     "text": [
      "Data Dictionary Updated.\n",
      "Remove row(s) from df_remove DataFrame.\n",
      "Remove row(s) from df_label DataFrame.\n",
      "Remove row(s) from df_can DataFrame.\n",
      "Remove row(s) from df_don DataFrame.\n",
      "Remove row(s) from df_both DataFrame.\n",
      "Remove row(s) from df_ordinal DataFrame.\n",
      "Remove row(s) from df_nominal DataFrame.\n",
      "\n",
      "Removed Features:['AcuteRejection', 'AcuteRejectionEpisode', 'AirwayDehiscencePostTransplant', 'DialysisPriorDischarge', 'FunctionalStatusFollowUp', 'FunctionalStatusFollowUp_Combined', 'GraftFailed', 'GraftLifeSpanDay', 'LastFollowupNumber', 'LengthOfStay', 'PacemakerPostTransplant', 'RecipientStatus', 'RejectionTreatmentWithinOneYear', 'StrokePostTransplant', 'TransplantStatus', 'TransplantSurvivalDay']\n",
      "\n",
      "Total rows before: 15,284 & columns: 155\n",
      "Total rows after: 15,284 & columns: 139\n"
     ]
    }
   ],
   "source": [
    "# remove labels\n",
    "removeCol = df_label.label[(~df_label.label.isin(['GraftStatus']))].to_list()\n",
    "\n",
    "# house keeping\n",
    "df, df_dict, df_remove, df_label, df_can, df_don, df_both, df_ordinal,  df_nominal = uf.HouseKeeping(df, removeCol, df_dict, df_remove, \\\n",
    "                                                                                                     df_label, df_can, df_don, df_both,\\\n",
    "                                                                                                     df_ordinal,  df_nominal, notebook)"
   ]
  },
  {
   "cell_type": "code",
   "execution_count": 6,
   "id": "2e2b0ca9-8d67-4841-9111-a69b43d759e9",
   "metadata": {},
   "outputs": [
    {
     "name": "stdout",
     "output_type": "stream",
     "text": [
      "Total Data feature count:  139\n",
      "\n",
      "Boolean feature count: 0\n",
      "Category feature count: 99\n",
      "Numeric feature count: 40\n",
      "Object feature count: 0\n",
      "Other feature count: 0\n",
      "\n",
      "Total feature count:  139\n"
     ]
    }
   ],
   "source": [
    "# initialize list with feature names\n",
    "uf.datatypeDF(df)"
   ]
  },
  {
   "cell_type": "code",
   "execution_count": 7,
   "id": "82848c82-f287-44c7-a260-2759ad6274a1",
   "metadata": {},
   "outputs": [
    {
     "data": {
      "text/html": [
       "<div>\n",
       "<style scoped>\n",
       "    .dataframe tbody tr th:only-of-type {\n",
       "        vertical-align: middle;\n",
       "    }\n",
       "\n",
       "    .dataframe tbody tr th {\n",
       "        vertical-align: top;\n",
       "    }\n",
       "\n",
       "    .dataframe thead th {\n",
       "        text-align: right;\n",
       "    }\n",
       "</style>\n",
       "<table border=\"1\" class=\"dataframe\">\n",
       "  <thead>\n",
       "    <tr style=\"text-align: right;\">\n",
       "      <th></th>\n",
       "      <th>percentage</th>\n",
       "      <th>NaNCount</th>\n",
       "    </tr>\n",
       "  </thead>\n",
       "  <tbody>\n",
       "    <tr>\n",
       "      <th>TotalSerumAlbumin_CAN</th>\n",
       "      <td>97.853965</td>\n",
       "      <td>14956</td>\n",
       "    </tr>\n",
       "    <tr>\n",
       "      <th>AntigenHLAcompatibility_A1</th>\n",
       "      <td>7.105470</td>\n",
       "      <td>1086</td>\n",
       "    </tr>\n",
       "    <tr>\n",
       "      <th>AntigenHLAcompatibility_B1</th>\n",
       "      <td>7.105470</td>\n",
       "      <td>1086</td>\n",
       "    </tr>\n",
       "    <tr>\n",
       "      <th>AntigenHLAcompatibility_B2</th>\n",
       "      <td>7.105470</td>\n",
       "      <td>1086</td>\n",
       "    </tr>\n",
       "    <tr>\n",
       "      <th>AntigenHLAcompatibility_DR1</th>\n",
       "      <td>7.105470</td>\n",
       "      <td>1086</td>\n",
       "    </tr>\n",
       "  </tbody>\n",
       "</table>\n",
       "</div>"
      ],
      "text/plain": [
       "                             percentage  NaNCount\n",
       "TotalSerumAlbumin_CAN         97.853965     14956\n",
       "AntigenHLAcompatibility_A1     7.105470      1086\n",
       "AntigenHLAcompatibility_B1     7.105470      1086\n",
       "AntigenHLAcompatibility_B2     7.105470      1086\n",
       "AntigenHLAcompatibility_DR1    7.105470      1086"
      ]
     },
     "execution_count": 7,
     "metadata": {},
     "output_type": "execute_result"
    }
   ],
   "source": [
    "# display NaNs\n",
    "DFNaN = uf.percentageNull(df)\n",
    "\n",
    "# remove ove 40% NaNs\n",
    "removeCol = DFNaN[DFNaN.percentage >= 40].index\n",
    "\n",
    "# display\n",
    "DFNaN.head()"
   ]
  },
  {
   "cell_type": "code",
   "execution_count": 8,
   "id": "a6b48e1e-6143-4380-8989-e27989a3e7bc",
   "metadata": {},
   "outputs": [
    {
     "name": "stdout",
     "output_type": "stream",
     "text": [
      "Data Dictionary Updated.\n",
      "Remove row(s) from df_remove DataFrame.\n",
      "Remove row(s) from df_label DataFrame.\n",
      "Remove row(s) from df_can DataFrame.\n",
      "Remove row(s) from df_don DataFrame.\n",
      "Remove row(s) from df_both DataFrame.\n",
      "Remove row(s) from df_ordinal DataFrame.\n",
      "Remove row(s) from df_nominal DataFrame.\n",
      "\n",
      "Removed Features:['TotalSerumAlbumin_CAN']\n",
      "\n",
      "Total rows before: 15,284 & columns: 139\n",
      "Total rows after: 15,284 & columns: 138\n"
     ]
    }
   ],
   "source": [
    "# house keeping\n",
    "df, df_dict, df_remove, df_label, df_can, df_don, df_both, df_ordinal,  df_nominal = uf.HouseKeeping(df, removeCol, df_dict, df_remove, \\\n",
    "                                                                                                     df_label, df_can, df_don, df_both,\\\n",
    "                                                                                                     df_ordinal,  df_nominal, notebook)"
   ]
  },
  {
   "cell_type": "code",
   "execution_count": 9,
   "id": "bde780cb-726a-4589-8c4e-7a50e007ca9f",
   "metadata": {},
   "outputs": [
    {
     "data": {
      "text/plain": [
       "(13541, 138)"
      ]
     },
     "execution_count": 9,
     "metadata": {},
     "output_type": "execute_result"
    }
   ],
   "source": [
    "# remove all NaNs\n",
    "df = df.dropna()\n",
    "\n",
    "# shape\n",
    "df.shape"
   ]
  },
  {
   "cell_type": "code",
   "execution_count": 10,
   "id": "d04e1554-263b-4185-9867-64337ce86daa",
   "metadata": {},
   "outputs": [
    {
     "data": {
      "text/plain": [
       "GraftStatus\n",
       "Y    12849\n",
       "N      472\n",
       "U      220\n",
       "Name: count, dtype: int64"
      ]
     },
     "execution_count": 10,
     "metadata": {},
     "output_type": "execute_result"
    }
   ],
   "source": [
    "# display value counts\n",
    "df.GraftStatus.value_counts(dropna=False)"
   ]
  },
  {
   "cell_type": "code",
   "execution_count": 11,
   "id": "20713ce5-0f2b-4196-94b1-2d0baab7441c",
   "metadata": {},
   "outputs": [],
   "source": [
    "# filter DataFrame\n",
    "df = df[df['GraftStatus'] != 'U']"
   ]
  },
  {
   "cell_type": "code",
   "execution_count": 12,
   "id": "063f0ece-8d88-405e-a995-6e38996689c1",
   "metadata": {},
   "outputs": [
    {
     "data": {
      "text/plain": [
       "GraftStatus\n",
       "Y    12849\n",
       "N      472\n",
       "U        0\n",
       "Name: count, dtype: int64"
      ]
     },
     "execution_count": 12,
     "metadata": {},
     "output_type": "execute_result"
    }
   ],
   "source": [
    "# display value counts\n",
    "df.GraftStatus.value_counts(dropna=False)"
   ]
  },
  {
   "cell_type": "code",
   "execution_count": 13,
   "id": "d0d5d9c0-a8e7-4810-b059-d0f4927c9a69",
   "metadata": {},
   "outputs": [],
   "source": [
    "# remove Zero category from dataframe\n",
    "df = uf.removeCatZeroCount(df).copy()"
   ]
  },
  {
   "cell_type": "code",
   "execution_count": 14,
   "id": "96ddccb2-959f-4c91-a5d8-927778bd4dd1",
   "metadata": {},
   "outputs": [
    {
     "data": {
      "image/png": "[encoded data removed]",
      "text/plain": [
       "<Figure size 1000x500 with 1 Axes>"
      ]
     },
     "metadata": {},
     "output_type": "display_data"
    }
   ],
   "source": [
    "# plot\n",
    "vi.countPlot(df, ['GraftStatus'])"
   ]
  },
  {
   "cell_type": "code",
   "execution_count": 15,
   "id": "da27051f-1e70-4a60-965f-4dd8db964b0b",
   "metadata": {},
   "outputs": [
    {
     "name": "stdout",
     "output_type": "stream",
     "text": [
      "Ordinal: 32\n",
      "Nominal: 89\n",
      "Binary Length: 20\n"
     ]
    }
   ],
   "source": [
    "# dind binary categorical features\n",
    "binaryCol= [col for col in df.columns if df[col].nunique() == 2]\n",
    "\n",
    "# get nominal features\n",
    "nominalCat = df_nominal.nominal.to_list()\n",
    "# get ordinal features\n",
    "ordinalCat = df_ordinal.ordinal.to_list()\n",
    "\n",
    "# display\n",
    "print(f\"Ordinal: {len(ordinalCat)}\")\n",
    "print(f\"Nominal: {len(nominalCat)}\")\n",
    "print(f\"Binary Length: {len(binaryCol)}\")"
   ]
  },
  {
   "cell_type": "code",
   "execution_count": 16,
   "id": "38ec24b4-adf8-452a-b8da-ce045de3e4cc",
   "metadata": {},
   "outputs": [
    {
     "data": {
      "text/html": [
       "<div>\n",
       "<style scoped>\n",
       "    .dataframe tbody tr th:only-of-type {\n",
       "        vertical-align: middle;\n",
       "    }\n",
       "\n",
       "    .dataframe tbody tr th {\n",
       "        vertical-align: top;\n",
       "    }\n",
       "\n",
       "    .dataframe thead th {\n",
       "        text-align: right;\n",
       "    }\n",
       "</style>\n",
       "<table border=\"1\" class=\"dataframe\">\n",
       "  <thead>\n",
       "    <tr style=\"text-align: right;\">\n",
       "      <th></th>\n",
       "      <th>PreviousMalignancy_CAN</th>\n",
       "      <th>CigaretteUse_CAN</th>\n",
       "      <th>Hispanic_CAN</th>\n",
       "      <th>LifeSupportTransplant_ECMO_CAN</th>\n",
       "      <th>LifeSupportTransplant_PGE_CAN</th>\n",
       "      <th>LifeSupportTransplant_IABP_CAN</th>\n",
       "      <th>LifeSupportTransplant_OTHER_CAN</th>\n",
       "      <th>VentilatorTransplant_CAN</th>\n",
       "      <th>LifeSupportInhaledTransplant_CAN</th>\n",
       "      <th>NonHeartBeating_DON</th>\n",
       "      <th>BloodInfectionSource_DON</th>\n",
       "      <th>PulmonaryInfection_DON</th>\n",
       "      <th>UrineInfection_DON</th>\n",
       "      <th>HIV_NAT_Result_DON</th>\n",
       "      <th>GraftStatus</th>\n",
       "      <th>KidneyAllocation_DON</th>\n",
       "      <th>PulmCath_DON</th>\n",
       "      <th>Ethnicity_Difference</th>\n",
       "      <th>Gender_Difference</th>\n",
       "      <th>IntropesIV_Combined_CAN</th>\n",
       "    </tr>\n",
       "  </thead>\n",
       "  <tbody>\n",
       "    <tr>\n",
       "      <th>2</th>\n",
       "      <td>1</td>\n",
       "      <td>1</td>\n",
       "      <td>0</td>\n",
       "      <td>0</td>\n",
       "      <td>0</td>\n",
       "      <td>0</td>\n",
       "      <td>0</td>\n",
       "      <td>0</td>\n",
       "      <td>0</td>\n",
       "      <td>1</td>\n",
       "      <td>0</td>\n",
       "      <td>1</td>\n",
       "      <td>0</td>\n",
       "      <td>0</td>\n",
       "      <td>0</td>\n",
       "      <td>0</td>\n",
       "      <td>1</td>\n",
       "      <td>0</td>\n",
       "      <td>1</td>\n",
       "      <td>0</td>\n",
       "    </tr>\n",
       "    <tr>\n",
       "      <th>3</th>\n",
       "      <td>1</td>\n",
       "      <td>0</td>\n",
       "      <td>0</td>\n",
       "      <td>0</td>\n",
       "      <td>0</td>\n",
       "      <td>0</td>\n",
       "      <td>0</td>\n",
       "      <td>0</td>\n",
       "      <td>0</td>\n",
       "      <td>1</td>\n",
       "      <td>0</td>\n",
       "      <td>1</td>\n",
       "      <td>1</td>\n",
       "      <td>0</td>\n",
       "      <td>1</td>\n",
       "      <td>0</td>\n",
       "      <td>1</td>\n",
       "      <td>1</td>\n",
       "      <td>1</td>\n",
       "      <td>1</td>\n",
       "    </tr>\n",
       "    <tr>\n",
       "      <th>4</th>\n",
       "      <td>1</td>\n",
       "      <td>0</td>\n",
       "      <td>0</td>\n",
       "      <td>0</td>\n",
       "      <td>0</td>\n",
       "      <td>0</td>\n",
       "      <td>0</td>\n",
       "      <td>0</td>\n",
       "      <td>0</td>\n",
       "      <td>1</td>\n",
       "      <td>0</td>\n",
       "      <td>1</td>\n",
       "      <td>1</td>\n",
       "      <td>0</td>\n",
       "      <td>0</td>\n",
       "      <td>0</td>\n",
       "      <td>1</td>\n",
       "      <td>1</td>\n",
       "      <td>0</td>\n",
       "      <td>0</td>\n",
       "    </tr>\n",
       "    <tr>\n",
       "      <th>5</th>\n",
       "      <td>1</td>\n",
       "      <td>1</td>\n",
       "      <td>0</td>\n",
       "      <td>0</td>\n",
       "      <td>0</td>\n",
       "      <td>0</td>\n",
       "      <td>0</td>\n",
       "      <td>0</td>\n",
       "      <td>0</td>\n",
       "      <td>1</td>\n",
       "      <td>0</td>\n",
       "      <td>0</td>\n",
       "      <td>0</td>\n",
       "      <td>0</td>\n",
       "      <td>0</td>\n",
       "      <td>0</td>\n",
       "      <td>1</td>\n",
       "      <td>1</td>\n",
       "      <td>1</td>\n",
       "      <td>0</td>\n",
       "    </tr>\n",
       "    <tr>\n",
       "      <th>6</th>\n",
       "      <td>1</td>\n",
       "      <td>1</td>\n",
       "      <td>0</td>\n",
       "      <td>0</td>\n",
       "      <td>0</td>\n",
       "      <td>0</td>\n",
       "      <td>0</td>\n",
       "      <td>0</td>\n",
       "      <td>0</td>\n",
       "      <td>1</td>\n",
       "      <td>0</td>\n",
       "      <td>1</td>\n",
       "      <td>0</td>\n",
       "      <td>0</td>\n",
       "      <td>0</td>\n",
       "      <td>0</td>\n",
       "      <td>1</td>\n",
       "      <td>1</td>\n",
       "      <td>1</td>\n",
       "      <td>1</td>\n",
       "    </tr>\n",
       "  </tbody>\n",
       "</table>\n",
       "</div>"
      ],
      "text/plain": [
       "   PreviousMalignancy_CAN  CigaretteUse_CAN  Hispanic_CAN  \\\n",
       "2                       1                 1             0   \n",
       "3                       1                 0             0   \n",
       "4                       1                 0             0   \n",
       "5                       1                 1             0   \n",
       "6                       1                 1             0   \n",
       "\n",
       "   LifeSupportTransplant_ECMO_CAN  LifeSupportTransplant_PGE_CAN  \\\n",
       "2                               0                              0   \n",
       "3                               0                              0   \n",
       "4                               0                              0   \n",
       "5                               0                              0   \n",
       "6                               0                              0   \n",
       "\n",
       "   LifeSupportTransplant_IABP_CAN  LifeSupportTransplant_OTHER_CAN  \\\n",
       "2                               0                                0   \n",
       "3                               0                                0   \n",
       "4                               0                                0   \n",
       "5                               0                                0   \n",
       "6                               0                                0   \n",
       "\n",
       "   VentilatorTransplant_CAN  LifeSupportInhaledTransplant_CAN  \\\n",
       "2                         0                                 0   \n",
       "3                         0                                 0   \n",
       "4                         0                                 0   \n",
       "5                         0                                 0   \n",
       "6                         0                                 0   \n",
       "\n",
       "   NonHeartBeating_DON  BloodInfectionSource_DON  PulmonaryInfection_DON  \\\n",
       "2                    1                         0                       1   \n",
       "3                    1                         0                       1   \n",
       "4                    1                         0                       1   \n",
       "5                    1                         0                       0   \n",
       "6                    1                         0                       1   \n",
       "\n",
       "   UrineInfection_DON  HIV_NAT_Result_DON  GraftStatus  KidneyAllocation_DON  \\\n",
       "2                   0                   0            0                     0   \n",
       "3                   1                   0            1                     0   \n",
       "4                   1                   0            0                     0   \n",
       "5                   0                   0            0                     0   \n",
       "6                   0                   0            0                     0   \n",
       "\n",
       "   PulmCath_DON  Ethnicity_Difference  Gender_Difference  \\\n",
       "2             1                     0                  1   \n",
       "3             1                     1                  1   \n",
       "4             1                     1                  0   \n",
       "5             1                     1                  1   \n",
       "6             1                     1                  1   \n",
       "\n",
       "   IntropesIV_Combined_CAN  \n",
       "2                        0  \n",
       "3                        1  \n",
       "4                        0  \n",
       "5                        0  \n",
       "6                        1  "
      ]
     },
     "execution_count": 16,
     "metadata": {},
     "output_type": "execute_result"
    }
   ],
   "source": [
    "# mapp binary features\n",
    "mapping = {'N': 1, 'Y':0, 'Yes': 1, 'No': 0, 'Non-Hispanic/Non-Latino': 0, 'Hispanic/Latino': 1, 'Negative': 0, 'Not Done': 1, 'True': 0, 'False': 1}\n",
    "\n",
    "# convert to string\n",
    "df[binaryCol] = df[binaryCol].astype(str)\n",
    "\n",
    "# mapping\n",
    "for col in binaryCol:\n",
    "    df[col] = df[col].map(mapping).fillna(df[col])\n",
    "\n",
    "# change dataype to integer\n",
    "df[binaryCol] = df[binaryCol].astype(int)\n",
    "\n",
    "# display\n",
    "df[binaryCol].head()"
   ]
  },
  {
   "cell_type": "code",
   "execution_count": 17,
   "id": "682d750d-3a94-40c5-82e3-8a91da9ba3f3",
   "metadata": {},
   "outputs": [
    {
     "name": "stdout",
     "output_type": "stream",
     "text": [
      "['AntibodyResultHBSAB_DON', 'Antibody_HEP_C_DON', 'Antihypertensive_DON', 'ArginnieManagement_DON', 'Biopsy_DON', 'Bronchoscopy_Combined_DON', 'CMVStatusTransplant_CAN', 'Cancer_DON', 'CardiacArrest_DON', 'CauseOfDeath_DON', 'CerebroVascularDisease_CAN', 'ChestXray_DON', 'CigaretteHistory_DON', 'ClinicalInfection_DON', 'CocaineUse_Combined_DON', 'CoronaryAngiogram_DON', 'CrossMatch', 'DeathCircumstance_DON', 'DeathMechanism_DON', 'DeceasedRetyped_DON', 'DefibrillatorImplant_CAN', 'Diabetes_CAN', 'Diabetes_DON', 'DialysisListingTransplant_CAN', 'Diuretics_DON', 'EpsteinBarrSeroStatusTransplant_CAN', 'EpsteinBarr_IGG_DON', 'EpsteinBarr_IGM_DON', 'HBV_NAT_Result_CAN', 'HBV_NAT_Result_DON', 'HCV_NAT_PreTranspant_CAN', 'HCV_NAT_Result_DON', 'HEP_C_SerostatusStatus_CAN', 'HIV_NAT_PreTransplant_CAN', 'HIV_SeroStatusTransplant_CAN', 'HeartProcedureType_CAN', 'HeavyAlcoholUse_DON', 'HeparinManagement_DON', 'Hepatitis_B_CoreAntibody_CAN', 'Hepatitis_B_CoreAntibody_DON', 'Hypertension_DON', 'InfectionTherapyIV_CAN', 'InotropicMedication_DON', 'InsulinManagement_DON', 'LV_EjectionFractionMedthod_DON', 'LifeSupportTransplant_CAN', 'MyocardialInfarction_DON', 'OtherDrugUse_Combined_DON', 'OtherInfectionSource_DON', 'PrimaryDiagnosisType_CAN', 'PriorCardiacSurgeryTypeListAndTransplant_CAN', 'PriorLungSurgeryListingTransplant_CAN', 'RPR_VDRL_Result_DON', 'SerologyAntiCMV_DON', 'StatusAtTransplant_CAN', 'SteroidsUse_CAN', 'SteroidsUse_DON', 'SurfaceAntigenHEP_B_CAN', 'SurfaceAntigenHEP_B_DON', 'SurfaceHBVAntibodyTotalTransplant_CAN', 'SynthicAntiDiureticHormone_DON', 'Tatoos_DON', 'Thyroxine_T4_DON', 'Transfusion_CAN', 'TransplantType_CAN', 'Triiodothyronine_T3_DON', 'UrinePortein_DON', 'Vasodilator_DON', 'VentilatorySupport_CAN']\n"
     ]
    }
   ],
   "source": [
    "# for encoding\n",
    "numericValue, nonNumericValue = uf.catNumeric(df, nominalCat)\n",
    "\n",
    "# add non-binary category to non-numeric category\n",
    "nonNumericValue.extend(list(set(numericValue) - set(binaryCol)))\n",
    "\n",
    "# display\n",
    "print(sorted(nonNumericValue))"
   ]
  },
  {
   "cell_type": "markdown",
   "id": "cb38b55b-f1a7-439d-952e-9fcf308cc00a",
   "metadata": {},
   "source": [
    "#### Encode - Ordinal"
   ]
  },
  {
   "cell_type": "code",
   "execution_count": 18,
   "id": "1196ce9c-2b89-440b-99a4-0f03a17c1d2d",
   "metadata": {},
   "outputs": [],
   "source": [
    "# import libraries\n",
    "from sklearn.preprocessing import OrdinalEncoder\n",
    "\n",
    "# get ordinal\n",
    "ordinalCol = df_ordinal.ordinal.to_list()\n",
    "\n",
    "# for encoding\n",
    "numericOrdinal, nonNumericOrdinal = uf.catNumeric(df, ordinalCol)"
   ]
  },
  {
   "cell_type": "code",
   "execution_count": 19,
   "id": "7badc308-2fae-41c2-bc9a-d65bb6035030",
   "metadata": {},
   "outputs": [],
   "source": [
    "# BloodGroupMatchLevel\n",
    "ordering = ['Identical', 'Compatible', 'Incompatible']\n",
    "# initialize encoder\n",
    "encoder = OrdinalEncoder(categories=[ordering])\n",
    "df['BloodGroupMatchLevel'] = encoder.fit_transform(df[['BloodGroupMatchLevel']])"
   ]
  },
  {
   "cell_type": "code",
   "execution_count": 20,
   "id": "3ede1a0c-c67f-4b35-ae54-771a3792c784",
   "metadata": {},
   "outputs": [],
   "source": [
    "# EducationLevel_CAN\n",
    "ordering = ['UNKNOWN', 'NONE', 'GRADE SCHOOL (0-8)','HIGH SCHOOL (9-12) or GED','ATTENDED COLLEGE/TECHNICAL SCHOOL','ASSOCIATE/BACHELOR DEGREE','POST-COLLEGE GRADUATE DEGREE']\n",
    "# initialize encoder\n",
    "encoder = OrdinalEncoder(categories=[ordering])\n",
    "df['EducationLevel_CAN'] = encoder.fit_transform(df[['EducationLevel_CAN']])"
   ]
  },
  {
   "cell_type": "code",
   "execution_count": 21,
   "id": "54ffa8fc-04e9-4491-b11c-ab2309eda634",
   "metadata": {},
   "outputs": [],
   "source": [
    "# DiabetesType_CAN\n",
    "ordering = ['Unknown', 'No', 'Type Unknown', 'Type Other', 'Type II','Type I']\n",
    "# initialize encoder\n",
    "encoder = OrdinalEncoder(categories=[ordering])\n",
    "df['DiabetesType_CAN'] = encoder.fit_transform(df[['DiabetesType_CAN']])"
   ]
  },
  {
   "cell_type": "code",
   "execution_count": 22,
   "id": "232840ea-8049-49c6-bfb3-cfdcfe336660",
   "metadata": {},
   "outputs": [],
   "source": [
    "# DiabetesHistory_DON\n",
    "ordering = ['Unknown', 'No', 'Yes, Duration Unknown','Yes, 0-5 years','Yes, 6-10 years','Yes, >10 years']\n",
    "# initialize encoder\n",
    "encoder = OrdinalEncoder(categories=[ordering])\n",
    "df['DiabetesHistory_DON'] = encoder.fit_transform(df[['DiabetesHistory_DON']])"
   ]
  },
  {
   "cell_type": "code",
   "execution_count": 23,
   "id": "a5fc39ae-1713-493b-8176-61d691507295",
   "metadata": {},
   "outputs": [],
   "source": [
    "# CigaretteAbstinence_CAN\n",
    "ordering = ['Unknown', 'Unknown duration', '0-2 months', '3-12 months','13-24 months', '25-36 months', '37-48 months', '49-60 months', '>60 months', 'Continues to smoke']\n",
    "# initialize encoder\n",
    "encoder = OrdinalEncoder(categories=[ordering])\n",
    "df['CigaretteAbstinence_CAN'] = encoder.fit_transform(df[['CigaretteAbstinence_CAN']])"
   ]
  },
  {
   "cell_type": "code",
   "execution_count": 24,
   "id": "0494b5ce-e78f-4689-9ca2-b98fc8d1ed1b",
   "metadata": {},
   "outputs": [],
   "source": [
    "# MedicalConditionTransplant_CAN\n",
    "ordering = ['Unknown', 'Not Hospitalized', 'Hospitalized Not in ICU', 'In Intensive Care Unit']\n",
    "# initialize encoder\n",
    "encoder = OrdinalEncoder(categories=[ordering])\n",
    "df['MedicalConditionTransplant_CAN'] = encoder.fit_transform(df[['MedicalConditionTransplant_CAN']])"
   ]
  },
  {
   "cell_type": "code",
   "execution_count": 25,
   "id": "8ce81f85-f31b-4a50-91c3-a0c796090ff0",
   "metadata": {},
   "outputs": [],
   "source": [
    "# MismatchLevel_LOCUS\n",
    "ordering = ['Unknown', 'Low Mismatch', 'High Mismatch']\n",
    "# initialize encoder\n",
    "encoder = OrdinalEncoder(categories=[ordering])\n",
    "df['MismatchLevel_LOCUS'] = encoder.fit_transform(df[['MismatchLevel_LOCUS']])"
   ]
  },
  {
   "cell_type": "code",
   "execution_count": 26,
   "id": "4ff308a5-71f8-486d-a9be-70217b3da4f6",
   "metadata": {},
   "outputs": [],
   "source": [
    "# MismatchLevel_HLA\n",
    "ordering = ['Unknown', 'No Mismatch', 'Low Mismatch', 'Moderate Mismatch', 'High Mismatch']\n",
    "# initialize encoder\n",
    "encoder = OrdinalEncoder(categories=[ordering])\n",
    "df['MismatchLevel_HLA'] = encoder.fit_transform(df[['MismatchLevel_HLA']])"
   ]
  },
  {
   "cell_type": "code",
   "execution_count": 27,
   "id": "fbdd3cda-3595-4f37-b620-7ecffb99d183",
   "metadata": {},
   "outputs": [],
   "source": [
    "# MismatchLevel_B_LOCUS\n",
    "ordering = ['Unknown', 'Low Mismatch', 'High Mismatch']\n",
    "# initialize encoder\n",
    "encoder = OrdinalEncoder(categories=[ordering])\n",
    "df['MismatchLevel_B_LOCUS'] = encoder.fit_transform(df[['MismatchLevel_B_LOCUS']])"
   ]
  },
  {
   "cell_type": "code",
   "execution_count": 28,
   "id": "b8282dd8-d947-4bb6-ab7f-e4710d8d001a",
   "metadata": {},
   "outputs": [],
   "source": [
    "# MismatchLevel_DR_LOCUS\n",
    "ordering = ['Unknown', 'Low Mismatch', 'High Mismatch']\n",
    "# initialize encoder\n",
    "encoder = OrdinalEncoder(categories=[ordering])\n",
    "df['MismatchLevel_DR_LOCUS'] = encoder.fit_transform(df[['MismatchLevel_DR_LOCUS']])"
   ]
  },
  {
   "cell_type": "code",
   "execution_count": 29,
   "id": "cc03fa64-683c-4fc0-a8b3-a66c0f1cf3ec",
   "metadata": {},
   "outputs": [],
   "source": [
    "# TransfusionNumber_DON\n",
    "ordering = ['NONE', '1 - 5', '6 - 10', 'GREATER THAN 10']\n",
    "# initialize encoder\n",
    "encoder = OrdinalEncoder(categories=[ordering])\n",
    "df['TransfusionNumber_DON'] = encoder.fit_transform(df[['TransfusionNumber_DON']])"
   ]
  },
  {
   "cell_type": "code",
   "execution_count": 30,
   "id": "bd9fd398-762c-475c-a9ff-c710fc837238",
   "metadata": {},
   "outputs": [],
   "source": [
    "# CalculatedPanelReactiveAntibody_CPRA_CAN_Mean\n",
    "ordering = ['Unknown', 'No Sensitization', 'Low Sensitization', 'Moderate Sensitization', 'High Sensitization']\n",
    "# initialize encoder\n",
    "encoder = OrdinalEncoder(categories=[ordering])\n",
    "df['CalculatedPanelReactiveAntibody_CPRA_CAN_Mean'] = encoder.fit_transform(df[['CalculatedPanelReactiveAntibody_CPRA_CAN_Mean']])"
   ]
  },
  {
   "cell_type": "code",
   "execution_count": 31,
   "id": "4f3ca029-ff48-4cf6-988a-ed7b5ec04f7f",
   "metadata": {},
   "outputs": [],
   "source": [
    "# FunctionalStatusTransplant_Combined_CAN\n",
    "ordering = ['Unknown', 'Functional', 'Limited', 'Critical']\n",
    "# initialize encoder\n",
    "encoder = OrdinalEncoder(categories=[ordering])\n",
    "df['FunctionalStatusTransplant_Combined_CAN'] = encoder.fit_transform(df[['FunctionalStatusTransplant_Combined_CAN']])"
   ]
  },
  {
   "cell_type": "markdown",
   "id": "8b4caec7-dd0d-4e82-ab87-45c6b1f8198c",
   "metadata": {},
   "source": [
    "#### Split Testing & Validation & Training"
   ]
  },
  {
   "cell_type": "code",
   "execution_count": 32,
   "id": "1238296b-0cf0-4fc9-93ff-f6cc3a39126a",
   "metadata": {},
   "outputs": [
    {
     "name": "stdout",
     "output_type": "stream",
     "text": [
      "Training Dependent Shape: (8524, 294) & Label Shape: (8524,)\n",
      "Validation Dependent Shape: (2132, 294) & Label Shape: (2132,)\n",
      "Testing Dependent Shape: (2665, 294) & Label Shape: (2665,)\n"
     ]
    }
   ],
   "source": [
    "X, y, X_train, X_test, X_val, y_train, y_val, y_test = uf.EncodeDummyTrainValTest(df, 'GraftStatus', nonNumericValue, RANDOM_STATE)"
   ]
  },
  {
   "cell_type": "markdown",
   "id": "047f40c1-975b-4916-80ff-46eef308de18",
   "metadata": {},
   "source": [
    "#### SelectKBest & f_classif"
   ]
  },
  {
   "cell_type": "code",
   "execution_count": 33,
   "id": "d0baccb7-78c1-4432-8f97-c067efa369e6",
   "metadata": {},
   "outputs": [
    {
     "data": {
      "text/html": [
       "<div>\n",
       "<style scoped>\n",
       "    .dataframe tbody tr th:only-of-type {\n",
       "        vertical-align: middle;\n",
       "    }\n",
       "\n",
       "    .dataframe tbody tr th {\n",
       "        vertical-align: top;\n",
       "    }\n",
       "\n",
       "    .dataframe thead th {\n",
       "        text-align: right;\n",
       "    }\n",
       "</style>\n",
       "<table border=\"1\" class=\"dataframe\">\n",
       "  <thead>\n",
       "    <tr style=\"text-align: right;\">\n",
       "      <th></th>\n",
       "      <th>Feature</th>\n",
       "      <th>Score</th>\n",
       "      <th>p_value</th>\n",
       "    </tr>\n",
       "  </thead>\n",
       "  <tbody>\n",
       "    <tr>\n",
       "      <th>39</th>\n",
       "      <td>IschemicTimeHour_DON</td>\n",
       "      <td>13.216153</td>\n",
       "      <td>0.000279</td>\n",
       "    </tr>\n",
       "    <tr>\n",
       "      <th>54</th>\n",
       "      <td>AntigenDR512_522_532_CAN_Sum</td>\n",
       "      <td>8.238067</td>\n",
       "      <td>0.004112</td>\n",
       "    </tr>\n",
       "    <tr>\n",
       "      <th>276</th>\n",
       "      <td>ChestXray_DON_No chest x-ray</td>\n",
       "      <td>7.798741</td>\n",
       "      <td>0.005240</td>\n",
       "    </tr>\n",
       "    <tr>\n",
       "      <th>57</th>\n",
       "      <td>CalculatedPanelReactiveAntibody_CPRA_CAN_Mean</td>\n",
       "      <td>7.769383</td>\n",
       "      <td>0.005326</td>\n",
       "    </tr>\n",
       "    <tr>\n",
       "      <th>8</th>\n",
       "      <td>MedicalConditionTransplant_CAN</td>\n",
       "      <td>7.015409</td>\n",
       "      <td>0.008096</td>\n",
       "    </tr>\n",
       "  </tbody>\n",
       "</table>\n",
       "</div>"
      ],
      "text/plain": [
       "                                           Feature      Score   p_value\n",
       "39                            IschemicTimeHour_DON  13.216153  0.000279\n",
       "54                    AntigenDR512_522_532_CAN_Sum   8.238067  0.004112\n",
       "276                   ChestXray_DON_No chest x-ray   7.798741  0.005240\n",
       "57   CalculatedPanelReactiveAntibody_CPRA_CAN_Mean   7.769383  0.005326\n",
       "8                   MedicalConditionTransplant_CAN   7.015409  0.008096"
      ]
     },
     "execution_count": 33,
     "metadata": {},
     "output_type": "execute_result"
    }
   ],
   "source": [
    "# get SelectKBest info\n",
    "selectedDF = uf.selectKClassif(X_train, y_train, K='all', function='f_classif')\n",
    "\n",
    "# display\n",
    "selectedDF.head()"
   ]
  },
  {
   "cell_type": "code",
   "execution_count": 34,
   "id": "08dff145-95db-47ce-aa02-99cf8e2a0135",
   "metadata": {},
   "outputs": [
    {
     "name": "stdout",
     "output_type": "stream",
     "text": [
      "Total Features: 27\n",
      "\n",
      "['IschemicTimeHour_DON', 'AntigenDR512_522_532_CAN_Sum', 'ChestXray_DON_No chest x-ray', 'CalculatedPanelReactiveAntibody_CPRA_CAN_Mean', 'MedicalConditionTransplant_CAN', 'PrimaryDiagnosisType_CAN_HEART RE-TX/GF: NON-SPECIFIC', 'SynthicAntiDiureticHormone_DON_Y', 'SteroidsUse_CAN_Y', 'StatusAtTransplant_CAN_Transposition of the Great Arteries; Truncus Arteriosus; Congenitally Corrected Transposition (L-TGA)', 'PulmCath_DON', 'HIV_NAT_PreTransplant_CAN_Positive', 'CauseOfDeath_DON_CEREBROVASCULAR/STROKE', 'DeathMechanism_DON_INTRACRANIAL HEMORRHAGE/STROKE', 'HCV_NAT_PreTranspant_CAN_Unknown', 'HBV_NAT_Result_CAN_Unknown', 'AntigenHLAcompatibility_B1', 'Level_SGOT_DON_Ratio', 'TotalDayWaitList_CAN', 'LifeSupportTransplant_IABP_CAN', 'DeathMechanism_DON_DROWNING', 'Hypertension_DON_U', 'CocaineUse_Combined_DON_Unknown', 'Hypertension_DON_Y', 'AntigenHLAcompatibility_B2', 'HIV_NAT_PreTransplant_CAN_Unknown', 'CMVStatusTransplant_CAN_Positive', 'TotalBilirubin_Sum']\n"
     ]
    }
   ],
   "source": [
    "# select p_value <= 0.05\n",
    "selected = selectedDF.Feature[selectedDF.p_value <= 0.05].to_list()\n",
    "\n",
    "# display\n",
    "print(f\"Total Features: {len(selected)}\\n\")\n",
    "print(selected)"
   ]
  },
  {
   "cell_type": "markdown",
   "id": "2e9f22a5-1dbc-489a-b2fd-654eb1c28bdc",
   "metadata": {},
   "source": [
    "#### Convert to Torch"
   ]
  },
  {
   "cell_type": "code",
   "execution_count": 35,
   "id": "b62f3642-9b9a-4a46-b5c9-900f47cd26f0",
   "metadata": {},
   "outputs": [],
   "source": [
    "# convert to numpy\n",
    "X_train = X_train[selected].values.astype(np.float32)\n",
    "X_val = X_val[selected].values.astype(np.float32)\n",
    "X_test = X_test[selected].values.astype(np.float32)"
   ]
  },
  {
   "cell_type": "code",
   "execution_count": 36,
   "id": "9aabf7ba-e7fe-4a00-be67-fad8dcbf2674",
   "metadata": {},
   "outputs": [],
   "source": [
    "# convert features (X) to PyTorch tensors\n",
    "X_train = torch.from_numpy(X_train)\n",
    "X_val = torch.from_numpy(X_val)\n",
    "X_test = torch.from_numpy(X_test)\n",
    "\n",
    "# convert labels (y) to PyTorch tensors\n",
    "y_train = torch.from_numpy(np.array(y_train.values)).float()\n",
    "y_val = torch.from_numpy(np.array(y_val.values)).float()\n",
    "y_test = torch.from_numpy(np.array(y_test.values)).float()"
   ]
  },
  {
   "cell_type": "code",
   "execution_count": 37,
   "id": "ed264208-21f0-4bd7-a289-e0177540170c",
   "metadata": {},
   "outputs": [],
   "source": [
    "def ClassificationMatricANN(Algorithm, Model, Desc, Type, model, loader, metricDF=None):\n",
    "\n",
    "    # evaluate on test set\n",
    "    test_preds = []\n",
    "    test_labels = []\n",
    "    test_loss = 0.0\n",
    "    \n",
    "    with torch.no_grad():\n",
    "        for X_batch, y_batch in eval(loader):\n",
    "            X_batch, y_batch = X_batch.to(device), y_batch.to(device)\n",
    "            outputs = model(X_batch.float())\n",
    "            loss = criterion(outputs.squeeze(), y_batch.float())\n",
    "            test_loss += loss.item()\n",
    "            \n",
    "            preds = (outputs > threshold).float()  # apply threshold\n",
    "            test_preds.extend(preds.cpu().numpy())\n",
    "            test_labels.extend(y_batch.cpu().numpy())\n",
    "    \n",
    "    # calculate test metrics\n",
    "    test_loss /= len(test_loader)\n",
    "    test_accuracy = metrics.accuracy_score(test_labels, test_preds)\n",
    "    test_precision = metrics.precision_score(test_labels, test_preds, zero_division=1)\n",
    "    test_recall = metrics.recall_score(test_labels, test_preds)\n",
    "    test_f1 = metrics.f1_score(test_labels, test_preds)\n",
    "    test_avg_precision = metrics.average_precision_score(test_labels, test_preds)\n",
    "    test_specificity = metrics.recall_score(test_labels, test_preds, pos_label=0)\n",
    "    test_roc_auc = metrics.roc_auc_score(test_labels, test_preds)\n",
    "\n",
    "    # initialize DataFrame\n",
    "    df_metrics = pd.DataFrame(columns=['Algorithm', 'Model', 'Description', 'DataType', 'Accuracy', 'RecallSensitivity','F1Score', 'AveragePrecision', 'Precision','Specificity', 'ROC_AUC_Score'])\n",
    "    # write to DataFrame\n",
    "    df_metrics.loc[len(df_metrics)] = [Algorithm, Model, Desc, Type, test_accuracy, test_recall, test_f1, test_avg_precision, test_precision, test_specificity, test_roc_auc]\n",
    "\n",
    "    # check existing DataFrame\n",
    "    if metricDF is not None and not metricDF.empty:\n",
    "        # concat two dataframes\n",
    "        dfNew = pd.concat([metricDF, df_metrics], ignore_index=True)\n",
    "\n",
    "        # reset the index\n",
    "        dfNew.reset_index(drop=True, inplace=True)\n",
    "    else:\n",
    "        # copy first metrics dataframe\n",
    "        dfNew = df_metrics.copy()\n",
    "    \n",
    "    # Plot confusion matrix and ROC curve in a single figure\n",
    "    fig, (ax1, ax2) = plt.subplots(1, 2, figsize=(20, 8))\n",
    "    \n",
    "    # Plot confusion matrix\n",
    "    cm = metrics.confusion_matrix(test_labels, test_preds)\n",
    "    sns.heatmap(cm, annot=True, fmt='d', cmap='Blues', xticklabels=['Predicted Negative', 'Predicted Positive'], yticklabels=['Actual Negative', 'Actual Positive'], cbar=False, ax=ax1)\n",
    "    ax1.set_xlabel('Predicted')\n",
    "    ax1.set_ylabel('Actual')\n",
    "    ax1.set_title('Confusion Matrix')\n",
    "    \n",
    "    # Calculate ROC curve\n",
    "    fpr, tpr, _ = metrics.roc_curve(test_labels, test_preds)\n",
    "    roc_auc = metrics.auc(fpr, tpr)\n",
    "    \n",
    "    # Plot ROC curve\n",
    "    ax2.plot(fpr, tpr, color='blue', lw=2, label=f'ROC curve (area = {roc_auc:.2f})')\n",
    "    ax2.plot([0, 1], [0, 1], color='gray', lw=2, linestyle='--')\n",
    "    ax2.set_xlim([0.0, 1.0])\n",
    "    ax2.set_ylim([0.0, 1.05])\n",
    "    ax2.set_xlabel('False Positive Rate')\n",
    "    ax2.set_ylabel('True Positive Rate')\n",
    "    ax2.set_title('Receiver Operating Characteristic (ROC) Curve')\n",
    "    ax2.legend(loc=\"lower right\")\n",
    "    \n",
    "    plt.show()\n",
    "\n",
    "    return dfNew"
   ]
  },
  {
   "cell_type": "code",
   "execution_count": 38,
   "id": "d8c12dc2-58e0-42fb-a7e8-6e77ad77fea8",
   "metadata": {},
   "outputs": [],
   "source": [
    "class DynamicANN(nn.Module):\n",
    "    def __init__(self, input_size, hidden_layers, output_size, dropout_rate=0.5, use_batch_norm=True):\n",
    "        super(DynamicANN, self).__init__()\n",
    "        \n",
    "        layers = []\n",
    "\n",
    "        # input layer to the first hidden layer\n",
    "        layers.append(nn.Linear(input_size, hidden_layers[0]))\n",
    "        if use_batch_norm:\n",
    "            layers.append(nn.BatchNorm1d(hidden_layers[0]))\n",
    "        layers.append(nn.ReLU())\n",
    "        layers.append(nn.Dropout(dropout_rate))\n",
    "\n",
    "        # hidden layers with batch norm and dropout\n",
    "        for i in range(len(hidden_layers) - 1):\n",
    "            layers.append(nn.Linear(hidden_layers[i], hidden_layers[i + 1]))\n",
    "            if use_batch_norm:\n",
    "                layers.append(nn.BatchNorm1d(hidden_layers[i + 1]))\n",
    "            layers.append(nn.ReLU())\n",
    "            layers.append(nn.Dropout(dropout_rate))\n",
    "        \n",
    "        # last hidden layer to the output layer (no batch norm or dropout after output layer)\n",
    "        layers.append(nn.Linear(hidden_layers[-1], output_size))\n",
    "        layers.append(nn.Sigmoid())  # For binary classification\n",
    "\n",
    "        # register all the layers as a Sequential module\n",
    "        self.network = nn.Sequential(*layers)\n",
    "        \n",
    "    def forward(self, x):\n",
    "        return self.network(x)\n",
    "\n",
    "class FocalLoss(nn.Module):\n",
    "    def __init__(self, alpha=1, gamma=2, reduction='mean'):\n",
    "        super(FocalLoss, self).__init__()\n",
    "        self.alpha = alpha\n",
    "        self.gamma = gamma\n",
    "        self.reduction = reduction\n",
    "\n",
    "    def forward(self, inputs, targets):\n",
    "        BCE_loss = F.binary_cross_entropy_with_logits(inputs, targets, reduction='none')\n",
    "        pt = torch.exp(-BCE_loss)\n",
    "        F_loss = self.alpha * (1 - pt) ** self.gamma * BCE_loss\n",
    "\n",
    "        if self.reduction == 'mean':\n",
    "            return F_loss.mean()\n",
    "        elif self.reduction == 'sum':\n",
    "            return F_loss.sum()\n",
    "        else:\n",
    "            return F_loss\n",
    "\n",
    "\n",
    "class EarlyStopping:\n",
    "    def __init__(self, patience=5, min_delta=0, enabled=True):\n",
    "        self.patience = patience\n",
    "        self.min_delta = min_delta\n",
    "        self.best_loss = np.inf\n",
    "        self.counter = 0\n",
    "        self.enabled = enabled\n",
    "\n",
    "    def __call__(self, val_loss):\n",
    "        if not self.enabled:\n",
    "            return False\n",
    "        \n",
    "        if val_loss < self.best_loss - self.min_delta:\n",
    "            self.best_loss = val_loss\n",
    "            self.counter = 0\n",
    "        else:\n",
    "            self.counter += 1\n",
    "        return self.counter >= self.patience"
   ]
  },
  {
   "cell_type": "markdown",
   "id": "42cf0fb4-49d4-4ad0-aba3-6daad067b80d",
   "metadata": {},
   "source": [
    "##### Note:\n",
    "- With weights applied, each class has a \"normalized\" contribution to the loss, meaning the minority class samples are \"amplified\" in importance, forcing the model to consider them more during training.\n",
    "- The factor of 2.0 is used here to normalize the weights so that they add up to approximately 1.0. In a binary classification\n",
    "- The goal of sample_weights is to balance the model’s learning across classes. By assigning higher weights to samples in underrepresented classes, you can reduce the bias towards the majority class and improve the model's performance on the minority class.\n",
    "- This balancing effect encourages the model to perform better across all classes, especially important metrics such as F1-score or AUC, which are sensitive to class imbalance."
   ]
  },
  {
   "cell_type": "code",
   "execution_count": 39,
   "id": "71963768-adb1-4328-a4c2-85864a2a870a",
   "metadata": {},
   "outputs": [],
   "source": [
    "class BalancedDataLoader:\n",
    "    def __init__(self, X_train, y_train, X_val, y_val, X_test, y_test, batch_size=32):\n",
    "        self.batch_size = batch_size\n",
    "        self.X_train = X_train\n",
    "        self.y_train = y_train\n",
    "        self.X_val = X_val\n",
    "        self.y_val = y_val\n",
    "        self.X_test = X_test\n",
    "        self.y_test = y_test\n",
    "\n",
    "        self.train_loader = self.create_train_loader()\n",
    "        self.val_loader = self.create_val_loader()\n",
    "        self.test_loader = self.create_test_loader()\n",
    "\n",
    "    def calculate_class_weights(self):\n",
    "        \"\"\"\n",
    "        This method calculates weights for each class to address class imbalance.\n",
    "        \"\"\"\n",
    "        N = len(self.y_train)\n",
    "        class_counts = torch.bincount(self.y_train.long())\n",
    "        class_weights = N / (2.0 * class_counts)\n",
    "        return class_weights\n",
    "\n",
    "    def create_train_loader(self):\n",
    "        \"\"\"\n",
    "        This method creates a balanced DataLoader for training data and returns with the balanced sampler\n",
    "        \"\"\"\n",
    "        class_weights = self.calculate_class_weights()\n",
    "        sample_weights = class_weights[self.y_train.long()]\n",
    "        sampler = WeightedRandomSampler(weights=sample_weights, num_samples=len(self.y_train), replacement=True)\n",
    "        train_data = TensorDataset(self.X_train, self.y_train)\n",
    "        train_loader = DataLoader(train_data, batch_size=self.batch_size, sampler=sampler)\n",
    "        return train_loader\n",
    "\n",
    "    def create_val_loader(self):\n",
    "        \"\"\"\n",
    "        Creates a DataLoader for validation data without balancing (as validation should represent the true distribution).\n",
    "        \"\"\"\n",
    "        val_data = TensorDataset(self.X_val, self.y_val)\n",
    "        val_loader = DataLoader(val_data, batch_size=self.batch_size)\n",
    "        return val_loader\n",
    "\n",
    "    def create_test_loader(self):\n",
    "        \"\"\"\n",
    "         Creates a DataLoader for testing data without balancing (as validation should represent the true distribution).\n",
    "        \"\"\"\n",
    "        test_data = TensorDataset(self.X_test, self.y_test)\n",
    "        test_loader = DataLoader(test_data, batch_size=self.batch_size)\n",
    "        return test_loader"
   ]
  },
  {
   "cell_type": "code",
   "execution_count": 40,
   "id": "c02bd97d-ca17-4869-bc98-fee3318376fb",
   "metadata": {},
   "outputs": [],
   "source": [
    "# batch size\n",
    "batch_size = 32\n",
    "# initialize variables for ANN\n",
    "hidden_layers = [64, 32, 16]\n",
    "dropout_rate = 0.05\n",
    "use_batch_norm = False\n",
    "learning_rate = 0.001\n",
    "min_delta = 0.001              # minimum change in the monitored metric to qualify as an improvement\n",
    "patience = 5                   # more epochs after the last improvement in the monitored metric\n",
    "num_epochs = 25\n",
    "early_stop = True\n",
    "factor = 0.5                   # ReduceLROnPlateau factor\n",
    "threshold = 0.25               # for classfication threshold value\n",
    "weight_decay = 1e-5            # L2 regularization strength\n",
    "# using focal loss criterion\n",
    "# α < 1: Reduces the weight of positive examples.\n",
    "# α > 1: Increases the weight of positive examples.\n",
    "alphac = 0.20 # range: 0-1\n",
    "# γ = 0: Reduces to standard binary cross-entropy loss.\n",
    "# γ > 0: Increases the focus on hard-to-classify examples.\n",
    "gammac = 3 # range 1 to 5\n",
    "# 'mean': Averages the loss over the batch.\n",
    "# 'sum': Sums the loss over the batch.\n",
    "# 'none': Returns the loss for each sample without reduction.\n",
    "reductionc = 'mean'\n",
    " # StepLR scheduler in PyTorch adjusts the learning rate of the optimizer at regular intervals\n",
    "gammas = 0.1    # The factor by which the learning rate is multiplied at each step\n",
    "step_size = 10   # The number of epochs between each learning rate adjustment.\n",
    "\n",
    "# instantiate class\n",
    "balanced_loader = BalancedDataLoader(X_train, y_train, X_val, y_val, X_test, y_test, batch_size=batch_size)\n",
    "\n",
    "# get DataLoader\n",
    "train_loader = balanced_loader.train_loader\n",
    "val_loader = balanced_loader.val_loader\n",
    "test_loader = balanced_loader.test_loader"
   ]
  },
  {
   "cell_type": "code",
   "execution_count": 41,
   "id": "5f9072db-770e-410d-80ec-3adb32188103",
   "metadata": {},
   "outputs": [
    {
     "name": "stdout",
     "output_type": "stream",
     "text": [
      "Using device: mps\n"
     ]
    }
   ],
   "source": [
    "# initialize Lists to store metrics for visualization\n",
    "train_losses = []\n",
    "val_losses = []\n",
    "val_accuracies = []\n",
    "val_precisions = []\n",
    "val_recalls = []\n",
    "val_f1s = []\n",
    "train_accuracies = []\n",
    "train_f1s = []\n",
    "\n",
    "# check for MPS availability\n",
    "device = torch.device(\"mps\") if torch.backends.mps.is_available() else torch.device(\"cpu\")\n",
    "print(f\"Using device: {device}\")\n",
    "\n",
    "# initialize model, loss function, and optimizer\n",
    "model = DynamicANN(input_size=X_train.shape[1], hidden_layers=hidden_layers, output_size=1, dropout_rate=dropout_rate, use_batch_norm=use_batch_norm).to(device)\n",
    "# BCEWithLogitsLoss combines a Sigmoid activation function and Binary Cross Entropy (BCE) loss into a single operation\n",
    "# criterion = nn.BCEWithLogitsLoss(pos_weight=torch.tensor([len(y_train[y_train == 0]) / len(y_train[y_train == 1])])).to(device)\n",
    "criterion = nn.BCELoss().to(device)\n",
    "# initialize Adam optimizer\n",
    "# optimizer = optim.Adam(model.parameters(), lr=learning_rate)\n",
    "# optimizer = optim.Adam(model.parameters(), lr=learning_rate, weight_decay=weight_decay)\n",
    "# define the loss function and optimizer\n",
    "criterion = FocalLoss(alpha=alphac, gamma=gammac, reduction=reductionc)\n",
    "optimizer = optim.Adam(model.parameters(), learning_rate, weight_decay=weight_decay)\n",
    "# Define the learning rate scheduler\n",
    "scheduler = optim.lr_scheduler.StepLR(optimizer, step_size=step_size, gamma=gammas)\n",
    "# scheduler = torch.optim.lr_scheduler.ReduceLROnPlateau(optimizer, 'min', factor = factor, patience=patience)\n",
    "\n",
    "# early stopping\n",
    "early_stopping = EarlyStopping(patience=patience, min_delta=min_delta, enabled=early_stop)"
   ]
  },
  {
   "cell_type": "code",
   "execution_count": 42,
   "id": "f2506d1d-c8d9-45ad-97bb-ea0631a7d282",
   "metadata": {},
   "outputs": [
    {
     "data": {
      "text/plain": [
       "DynamicANN(\n",
       "  (network): Sequential(\n",
       "    (0): Linear(in_features=27, out_features=64, bias=True)\n",
       "    (1): ReLU()\n",
       "    (2): Dropout(p=0.05, inplace=False)\n",
       "    (3): Linear(in_features=64, out_features=32, bias=True)\n",
       "    (4): ReLU()\n",
       "    (5): Dropout(p=0.05, inplace=False)\n",
       "    (6): Linear(in_features=32, out_features=16, bias=True)\n",
       "    (7): ReLU()\n",
       "    (8): Dropout(p=0.05, inplace=False)\n",
       "    (9): Linear(in_features=16, out_features=1, bias=True)\n",
       "    (10): Sigmoid()\n",
       "  )\n",
       ")"
      ]
     },
     "execution_count": 42,
     "metadata": {},
     "output_type": "execute_result"
    }
   ],
   "source": [
    "model"
   ]
  },
  {
   "cell_type": "code",
   "execution_count": 43,
   "id": "1e7b8f52-4ff5-44b2-ab9c-8b31a5cac612",
   "metadata": {},
   "outputs": [
    {
     "name": "stdout",
     "output_type": "stream",
     "text": [
      "Epoch 1, Train Loss: 0.0178, Train Accuracy: 0.4977, Train F1: 0.0707, Val Loss: 0.0174, Val Accuracy: 0.9625, Val F1: 0.0000\n",
      "Epoch 2, Train Loss: 0.0173, Train Accuracy: 0.5062, Train F1: 0.0009, Val Loss: 0.0173, Val Accuracy: 0.9644, Val F1: 0.0000\n",
      "Epoch 3, Train Loss: 0.0173, Train Accuracy: 0.4995, Train F1: 0.0000, Val Loss: 0.0173, Val Accuracy: 0.9644, Val F1: 0.0000\n",
      "Epoch 4, Train Loss: 0.0173, Train Accuracy: 0.5029, Train F1: 0.0000, Val Loss: 0.0173, Val Accuracy: 0.9644, Val F1: 0.0000\n",
      "Epoch 5, Train Loss: 0.0173, Train Accuracy: 0.5036, Train F1: 0.0000, Val Loss: 0.0173, Val Accuracy: 0.9644, Val F1: 0.0000\n",
      "Epoch 6, Train Loss: 0.0173, Train Accuracy: 0.5056, Train F1: 0.0000, Val Loss: 0.0173, Val Accuracy: 0.9644, Val F1: 0.0000\n",
      "Early stopping triggered\n"
     ]
    }
   ],
   "source": [
    "from sklearn.model_selection import KFold\n",
    "\n",
    "# training loop\n",
    "for epoch in range(num_epochs):  \n",
    "    model.train()\n",
    "    running_loss = 0.0\n",
    "    train_preds = []\n",
    "    train_labels = []\n",
    "\n",
    "    # iterates over the training data in batches\n",
    "    for X_batch, y_batch in train_loader:\n",
    "        X_batch, y_batch = X_batch.to(device), y_batch.to(device)\n",
    "        optimizer.zero_grad() # reset the gradients of all parameters to zero\n",
    "        outputs = model(X_batch.float())\n",
    "        loss = criterion(outputs.squeeze(), y_batch.float())\n",
    "        loss.backward()\n",
    "        optimizer.step()\n",
    "        running_loss += loss.item()         \n",
    "        # capture predictions and labels for training metrics\n",
    "        preds = (outputs > threshold).float() # threshold        \n",
    "        train_preds.extend(preds.cpu().detach().numpy())\n",
    "        train_labels.extend(y_batch.cpu().numpy())\n",
    "        \n",
    "    train_loss = running_loss / len(train_loader)\n",
    "    train_losses.append(train_loss)\n",
    "\n",
    "    # calculate training metrics\n",
    "    train_accuracy = metrics.accuracy_score(train_labels, train_preds)\n",
    "    train_f1 = metrics.f1_score(train_labels, train_preds)\n",
    "    train_accuracies.append(train_accuracy)\n",
    "    train_f1s.append(train_f1)\n",
    "\n",
    "    # validation\n",
    "    model.eval()\n",
    "    val_preds = []\n",
    "    val_labels = []\n",
    "    val_loss = 0.0\n",
    "    with torch.no_grad():\n",
    "        for X_batch, y_batch in val_loader:\n",
    "            X_batch, y_batch = X_batch.to(device), y_batch.to(device)\n",
    "            outputs = model(X_batch.float())\n",
    "            loss = criterion(outputs.squeeze(), y_batch.float())\n",
    "            val_loss += loss.item()\n",
    "            preds = (outputs > threshold).float()  # threshold            \n",
    "            val_preds.extend(preds.cpu().numpy())\n",
    "            val_labels.extend(y_batch.cpu().numpy())\n",
    "    \n",
    "    # calculate validation metrics\n",
    "    val_loss /= len(val_loader)\n",
    "    val_losses.append(val_loss)\n",
    "    val_accuracy = metrics.accuracy_score(val_labels, val_preds)    \n",
    "    val_precision = metrics.precision_score(val_labels, val_preds, zero_division=1)\n",
    "    val_recall = metrics.recall_score(val_labels, val_preds)\n",
    "    val_f1 = metrics.f1_score(val_labels, val_preds)\n",
    "    \n",
    "    # append metrics\n",
    "    val_accuracies.append(val_accuracy)\n",
    "    val_precisions.append(val_precision)\n",
    "    val_recalls.append(val_recall)\n",
    "    val_f1s.append(val_f1)\n",
    "\n",
    "    last_lr = scheduler.get_last_lr()[0]\n",
    "    \n",
    "    # update the learning rate without passing the epoch\n",
    "    scheduler.step()\n",
    "    curr_lr = scheduler.get_last_lr()[0]\n",
    "    # display id learning rate changed\n",
    "    if last_lr != curr_lr:\n",
    "        print(f\"Learning Rate {last_lr} has been Updated to: {curr_lr}\")\n",
    "    # # get learning rate\n",
    "    # last_lr = scheduler.get_last_lr()[0]\n",
    "    # scheduler.step(val_loss)\n",
    "    # curr_lr = scheduler.get_last_lr()[0]\n",
    "    # # display msg\n",
    "    # if curr_lr != last_lr:\n",
    "    #     print(f\"Learning Rate {last_lr} has been Updated to: {curr_lr}\")\n",
    "    \n",
    "    # display\n",
    "    print(f'Epoch {epoch+1}, '\n",
    "          f'Train Loss: {train_loss:.4f}, '\n",
    "          f'Train Accuracy: {train_accuracy:.4f}, '\n",
    "          f'Train F1: {train_f1:.4f}, '\n",
    "          f'Val Loss: {val_loss:.4f}, '\n",
    "          f'Val Accuracy: {val_accuracy:.4f}, '\n",
    "          f'Val F1: {val_f1:.4f}')\n",
    "\n",
    "    # check early stopping\n",
    "    if early_stopping(val_loss):\n",
    "        print(\"Early stopping triggered\")\n",
    "        scripted_model = torch.jit.script(model)\n",
    "        scripted_model.save('../Models/best_model.pth')\n",
    "        break\n",
    "\n",
    "# save\n",
    "scripted_model = torch.jit.script(model)\n",
    "scripted_model.save('../Models/fullEpoch_model.pth')"
   ]
  },
  {
   "cell_type": "code",
   "execution_count": 44,
   "id": "8bedd6b7-5caf-4f8a-8f2e-37d17e897f66",
   "metadata": {},
   "outputs": [
    {
     "data": {
      "image/png": "[encoded data removed]",
      "text/plain": [
       "<Figure size 1800x600 with 3 Axes>"
      ]
     },
     "metadata": {},
     "output_type": "display_data"
    }
   ],
   "source": [
    "# Plotting the training progress\n",
    "epochs = range(1, len(train_losses) + 1)\n",
    "plt.figure(figsize=(18, 6))\n",
    "\n",
    "# Loss plot\n",
    "plt.subplot(1, 3, 1)\n",
    "plt.plot(epochs, train_losses, label='Training Loss', color='blue')\n",
    "plt.plot(epochs, val_losses, label='Validation Loss', color='red')\n",
    "plt.xlabel('Epochs')\n",
    "plt.ylabel('Loss')\n",
    "plt.title('Training and Validation Loss')\n",
    "plt.legend()\n",
    "\n",
    "# Accuracy plot\n",
    "plt.subplot(1, 3, 2)\n",
    "plt.plot(epochs, train_accuracies, label='Training Accuracy', color='blue')\n",
    "plt.plot(epochs, val_accuracies, label='Validation Accuracy', color='red')\n",
    "plt.xlabel('Epochs')\n",
    "plt.ylabel('Accuracy')\n",
    "plt.title('Training and Validation Accuracy')\n",
    "plt.legend()\n",
    "\n",
    "# F1 Score plot\n",
    "plt.subplot(1, 3, 3)\n",
    "plt.plot(epochs, train_f1s, label='Training F1 Score', color='blue')\n",
    "plt.plot(epochs, val_f1s, label='Validation F1 Score', color='red')\n",
    "plt.xlabel('Epochs')\n",
    "plt.ylabel('F1 Score')\n",
    "plt.title('Training and Validation F1 Score')\n",
    "plt.legend()\n",
    "\n",
    "plt.tight_layout()\n",
    "plt.show()"
   ]
  },
  {
   "cell_type": "markdown",
   "id": "1413e376-127c-429f-9f6c-dd2b770fc1b4",
   "metadata": {},
   "source": [
    "#### Load First Model"
   ]
  },
  {
   "cell_type": "code",
   "execution_count": 45,
   "id": "5c011d1d-c4d6-462a-950f-791921bf82b0",
   "metadata": {},
   "outputs": [
    {
     "data": {
      "text/plain": [
       "RecursiveScriptModule(\n",
       "  original_name=DynamicANN\n",
       "  (network): RecursiveScriptModule(\n",
       "    original_name=Sequential\n",
       "    (0): RecursiveScriptModule(original_name=Linear)\n",
       "    (1): RecursiveScriptModule(original_name=ReLU)\n",
       "    (2): RecursiveScriptModule(original_name=Dropout)\n",
       "    (3): RecursiveScriptModule(original_name=Linear)\n",
       "    (4): RecursiveScriptModule(original_name=ReLU)\n",
       "    (5): RecursiveScriptModule(original_name=Dropout)\n",
       "    (6): RecursiveScriptModule(original_name=Linear)\n",
       "    (7): RecursiveScriptModule(original_name=ReLU)\n",
       "    (8): RecursiveScriptModule(original_name=Dropout)\n",
       "    (9): RecursiveScriptModule(original_name=Linear)\n",
       "    (10): RecursiveScriptModule(original_name=Sigmoid)\n",
       "  )\n",
       ")"
      ]
     },
     "execution_count": 45,
     "metadata": {},
     "output_type": "execute_result"
    }
   ],
   "source": [
    "# Load the scripted model\n",
    "# model = torch.jit.load('../Models/best_model.pth')\n",
    "model = torch.jit.load('../Models/fullEpoch_model.pth')\n",
    "model.to(device)\n",
    "model.eval()"
   ]
  },
  {
   "cell_type": "code",
   "execution_count": 46,
   "id": "d69d80f1-6933-48c4-976b-e1750616043f",
   "metadata": {},
   "outputs": [
    {
     "data": {
      "image/png": "[encoded data removed]",
      "text/plain": [
       "<Figure size 2000x800 with 2 Axes>"
      ]
     },
     "metadata": {},
     "output_type": "display_data"
    },
    {
     "data": {
      "text/html": [
       "<div>\n",
       "<style scoped>\n",
       "    .dataframe tbody tr th:only-of-type {\n",
       "        vertical-align: middle;\n",
       "    }\n",
       "\n",
       "    .dataframe tbody tr th {\n",
       "        vertical-align: top;\n",
       "    }\n",
       "\n",
       "    .dataframe thead th {\n",
       "        text-align: right;\n",
       "    }\n",
       "</style>\n",
       "<table border=\"1\" class=\"dataframe\">\n",
       "  <thead>\n",
       "    <tr style=\"text-align: right;\">\n",
       "      <th></th>\n",
       "      <th>Algorithm</th>\n",
       "      <th>Model</th>\n",
       "      <th>Description</th>\n",
       "      <th>DataType</th>\n",
       "      <th>Accuracy</th>\n",
       "      <th>RecallSensitivity</th>\n",
       "      <th>F1Score</th>\n",
       "      <th>AveragePrecision</th>\n",
       "      <th>Precision</th>\n",
       "      <th>Specificity</th>\n",
       "      <th>ROC_AUC_Score</th>\n",
       "    </tr>\n",
       "  </thead>\n",
       "  <tbody>\n",
       "    <tr>\n",
       "      <th>0</th>\n",
       "      <td>ANN: threshold = 0.25</td>\n",
       "      <td>6 Epochs</td>\n",
       "      <td>ANN - BalancedDataLoader - All Features - hidden_layers = [64, 32, 16] &amp; dropout_rate = 0.05 &amp; use_batch_norm = False &amp; L2: 1e-05         &amp; FocalLoss(alpha=0.2, gamma=3, reduction=mean) &amp; scheduler = optim.lr_scheduler.StepLR(optimizer, step_size=10, gamma=0.1)</td>\n",
       "      <td>Training</td>\n",
       "      <td>0.501056</td>\n",
       "      <td>0.0</td>\n",
       "      <td>0.0</td>\n",
       "      <td>0.498944</td>\n",
       "      <td>1.0</td>\n",
       "      <td>1.0</td>\n",
       "      <td>0.5</td>\n",
       "    </tr>\n",
       "  </tbody>\n",
       "</table>\n",
       "</div>"
      ],
      "text/plain": [
       "               Algorithm     Model  \\\n",
       "0  ANN: threshold = 0.25  6 Epochs   \n",
       "\n",
       "                                                                                                                                                                                                                                                             Description  \\\n",
       "0  ANN - BalancedDataLoader - All Features - hidden_layers = [64, 32, 16] & dropout_rate = 0.05 & use_batch_norm = False & L2: 1e-05         & FocalLoss(alpha=0.2, gamma=3, reduction=mean) & scheduler = optim.lr_scheduler.StepLR(optimizer, step_size=10, gamma=0.1)   \n",
       "\n",
       "   DataType  Accuracy  RecallSensitivity  F1Score  AveragePrecision  \\\n",
       "0  Training  0.501056                0.0      0.0          0.498944   \n",
       "\n",
       "   Precision  Specificity  ROC_AUC_Score  \n",
       "0        1.0          1.0            0.5  "
      ]
     },
     "execution_count": 46,
     "metadata": {},
     "output_type": "execute_result"
    }
   ],
   "source": [
    "# initialize variables\n",
    "Algorithm = f'ANN: threshold = {threshold}'\n",
    "Desc = f'ANN - BalancedDataLoader - All Features - hidden_layers = {hidden_layers} & dropout_rate = {dropout_rate} & use_batch_norm = {use_batch_norm} & L2: {weight_decay} \\\n",
    "        & FocalLoss(alpha={alphac}, gamma={gammac}, reduction={reductionc}) & scheduler = optim.lr_scheduler.StepLR(optimizer, step_size={step_size}, gamma={gammas})'\n",
    "Model = f'{epoch+1} Epochs'\n",
    "Type = 'Training'\n",
    "\n",
    "# display\n",
    "df_classification = ClassificationMatricANN(Algorithm, Model, Desc, Type, model, loader='train_loader')\n",
    "df_classification"
   ]
  },
  {
   "cell_type": "code",
   "execution_count": 47,
   "id": "d9c53d07-0cef-4740-872a-c0ca8a16f23f",
   "metadata": {},
   "outputs": [
    {
     "data": {
      "image/png": "[encoded data removed]",
      "text/plain": [
       "<Figure size 2000x800 with 2 Axes>"
      ]
     },
     "metadata": {},
     "output_type": "display_data"
    },
    {
     "data": {
      "text/html": [
       "<div>\n",
       "<style scoped>\n",
       "    .dataframe tbody tr th:only-of-type {\n",
       "        vertical-align: middle;\n",
       "    }\n",
       "\n",
       "    .dataframe tbody tr th {\n",
       "        vertical-align: top;\n",
       "    }\n",
       "\n",
       "    .dataframe thead th {\n",
       "        text-align: right;\n",
       "    }\n",
       "</style>\n",
       "<table border=\"1\" class=\"dataframe\">\n",
       "  <thead>\n",
       "    <tr style=\"text-align: right;\">\n",
       "      <th></th>\n",
       "      <th>Algorithm</th>\n",
       "      <th>Model</th>\n",
       "      <th>Description</th>\n",
       "      <th>DataType</th>\n",
       "      <th>Accuracy</th>\n",
       "      <th>RecallSensitivity</th>\n",
       "      <th>F1Score</th>\n",
       "      <th>AveragePrecision</th>\n",
       "      <th>Precision</th>\n",
       "      <th>Specificity</th>\n",
       "      <th>ROC_AUC_Score</th>\n",
       "    </tr>\n",
       "  </thead>\n",
       "  <tbody>\n",
       "    <tr>\n",
       "      <th>0</th>\n",
       "      <td>ANN: threshold = 0.25</td>\n",
       "      <td>6 Epochs</td>\n",
       "      <td>ANN - BalancedDataLoader - All Features - hidden_layers = [64, 32, 16] &amp; dropout_rate = 0.05 &amp; use_batch_norm = False &amp; L2: 1e-05         &amp; FocalLoss(alpha=0.2, gamma=3, reduction=mean) &amp; scheduler = optim.lr_scheduler.StepLR(optimizer, step_size=10, gamma=0.1)</td>\n",
       "      <td>Training</td>\n",
       "      <td>0.501056</td>\n",
       "      <td>0.0</td>\n",
       "      <td>0.0</td>\n",
       "      <td>0.498944</td>\n",
       "      <td>1.0</td>\n",
       "      <td>1.0</td>\n",
       "      <td>0.5</td>\n",
       "    </tr>\n",
       "    <tr>\n",
       "      <th>1</th>\n",
       "      <td>ANN: threshold = 0.25</td>\n",
       "      <td>6 Epochs</td>\n",
       "      <td>ANN - BalancedDataLoader - All Features - hidden_layers = [64, 32, 16] &amp; dropout_rate = 0.05 &amp; use_batch_norm = False &amp; L2: 1e-05         &amp; FocalLoss(alpha=0.2, gamma=3, reduction=mean) &amp; scheduler = optim.lr_scheduler.StepLR(optimizer, step_size=10, gamma=0.1)</td>\n",
       "      <td>Testing</td>\n",
       "      <td>0.964728</td>\n",
       "      <td>0.0</td>\n",
       "      <td>0.0</td>\n",
       "      <td>0.035272</td>\n",
       "      <td>1.0</td>\n",
       "      <td>1.0</td>\n",
       "      <td>0.5</td>\n",
       "    </tr>\n",
       "  </tbody>\n",
       "</table>\n",
       "</div>"
      ],
      "text/plain": [
       "               Algorithm     Model  \\\n",
       "0  ANN: threshold = 0.25  6 Epochs   \n",
       "1  ANN: threshold = 0.25  6 Epochs   \n",
       "\n",
       "                                                                                                                                                                                                                                                             Description  \\\n",
       "0  ANN - BalancedDataLoader - All Features - hidden_layers = [64, 32, 16] & dropout_rate = 0.05 & use_batch_norm = False & L2: 1e-05         & FocalLoss(alpha=0.2, gamma=3, reduction=mean) & scheduler = optim.lr_scheduler.StepLR(optimizer, step_size=10, gamma=0.1)   \n",
       "1  ANN - BalancedDataLoader - All Features - hidden_layers = [64, 32, 16] & dropout_rate = 0.05 & use_batch_norm = False & L2: 1e-05         & FocalLoss(alpha=0.2, gamma=3, reduction=mean) & scheduler = optim.lr_scheduler.StepLR(optimizer, step_size=10, gamma=0.1)   \n",
       "\n",
       "   DataType  Accuracy  RecallSensitivity  F1Score  AveragePrecision  \\\n",
       "0  Training  0.501056                0.0      0.0          0.498944   \n",
       "1   Testing  0.964728                0.0      0.0          0.035272   \n",
       "\n",
       "   Precision  Specificity  ROC_AUC_Score  \n",
       "0        1.0          1.0            0.5  \n",
       "1        1.0          1.0            0.5  "
      ]
     },
     "execution_count": 47,
     "metadata": {},
     "output_type": "execute_result"
    }
   ],
   "source": [
    "# initialize variables\n",
    "Algorithm = f'ANN: threshold = {threshold}'\n",
    "Desc = f'ANN - BalancedDataLoader - All Features - hidden_layers = {hidden_layers} & dropout_rate = {dropout_rate} & use_batch_norm = {use_batch_norm} & L2: {weight_decay} \\\n",
    "        & FocalLoss(alpha={alphac}, gamma={gammac}, reduction={reductionc}) & scheduler = optim.lr_scheduler.StepLR(optimizer, step_size={step_size}, gamma={gammas})'\n",
    "Model = f'{epoch+1} Epochs'\n",
    "Type = 'Testing'\n",
    "\n",
    "# display\n",
    "df_classification = ClassificationMatricANN(Algorithm, Model, Desc, Type, model, 'test_loader', df_classification)\n",
    "df_classification"
   ]
  },
  {
   "cell_type": "code",
   "execution_count": null,
   "id": "164d6ef6-d4ce-403d-a831-3baf6dad78d8",
   "metadata": {},
   "outputs": [],
   "source": []
  }
 ],
 "metadata": {
  "kernelspec": {
   "display_name": "PyTorch",
   "language": "python",
   "name": "pytorch_env"
  },
  "language_info": {
   "codemirror_mode": {
    "name": "ipython",
    "version": 3
   },
   "file_extension": ".py",
   "mimetype": "text/x-python",
   "name": "python",
   "nbconvert_exporter": "python",
   "pygments_lexer": "ipython3",
   "version": "3.11.10"
  }
 },
 "nbformat": 4,
 "nbformat_minor": 5
}
