{
 "cells": [
  {
   "cell_type": "code",
   "execution_count": 1,
   "id": "a1a73238-4c76-49c4-a431-b880a92409c7",
   "metadata": {
    "tags": []
   },
   "outputs": [
    {
     "name": "stdout",
     "output_type": "stream",
     "text": [
      "Numpy Version: 1.26.2\n",
      "Pandas Version: 2.1.3\n",
      "Seaborn Version: 0.13.0\n"
     ]
    }
   ],
   "source": [
    "# import libraries\n",
    "import pandas as pd\n",
    "from sqlalchemy import create_engine\n",
    "\n",
    "# print version\n",
    "print(\"Pandas Version: \" + pd.__version__)"
   ]
  },
  {
   "cell_type": "code",
   "execution_count": 2,
   "id": "6e93c26b-c4ef-46e9-ae89-dbf5ee8a941e",
   "metadata": {
    "tags": []
   },
   "outputs": [],
   "source": [
    "columns_name = pd.read_html('../Data/THORACIC_DATA.htm',)\n",
    "columns_name_df = columns_name[0]\n",
    "column_name = list(columns_name_df['LABEL'])\n",
    "# import into DataFrame\n",
    "df_main = pd.read_csv('../Data/THORACIC_DATA.DAT', sep='\\t', header=None, names = column_name, encoding='latin', low_memory=False)"
   ]
  },
  {
   "cell_type": "code",
   "execution_count": 3,
   "id": "ab65dd60-16f2-47b8-a77d-d2d35f14cffd",
   "metadata": {
    "tags": []
   },
   "outputs": [],
   "source": [
    "columns_name = pd.read_html('../Data/THORACIC_FOLLOWUP_DATA.htm',)\n",
    "columns_name_df = columns_name[0]\n",
    "column_name = list(columns_name_df['LABEL'])\n",
    "# import into DataFrame\n",
    "df_followup = pd.read_csv('../Data/THORACIC_FOLLOWUP_DATA.DAT', sep='\\t', header=None, names = column_name, encoding='latin', low_memory=False)"
   ]
  },
  {
   "cell_type": "code",
   "execution_count": 4,
   "id": "4b39a309",
   "metadata": {},
   "outputs": [],
   "source": [
    "columns_name = pd.read_html('../Data/THORACIC_FORMATS_FLATFILE.htm',)\n",
    "columns_name_df = columns_name[0]\n",
    "column_name = list(columns_name_df['LABEL'])\n",
    "# import into DataFrame\n",
    "df_format = pd.read_csv('../Data/../Data/THORACIC_FORMATS_FLATFILE.DAT', sep='\\t', header=None, names = column_name, encoding='latin')"
   ]
  },
  {
   "cell_type": "code",
   "execution_count": 5,
   "id": "36debada-4931-4e3f-9fdc-9dd037583583",
   "metadata": {
    "tags": []
   },
   "outputs": [
    {
     "data": {
      "text/plain": [
       "(200217, 919069, 36478)"
      ]
     },
     "execution_count": 5,
     "metadata": {},
     "output_type": "execute_result"
    }
   ],
   "source": [
    "\n",
    "len(df_main), len(df_followup), len(df_format)"
   ]
  },
  {
   "cell_type": "code",
   "execution_count": 6,
   "id": "1b6381d3",
   "metadata": {},
   "outputs": [],
   "source": [
    "# define the connection parameters\n",
    "connection_params = {\n",
    "    \"host\": \"localhost\",\n",
    "    \"database\": \"thoracic\",\n",
    "    \"user\": \"sir\", \n",
    "    \"password\": \"password\"\n",
    "}"
   ]
  },
  {
   "cell_type": "code",
   "execution_count": 7,
   "id": "15b37b47",
   "metadata": {},
   "outputs": [],
   "source": [
    "# create an SQLAlchemy engine\n",
    "engine = create_engine(f\"postgresql://{connection_params['user']}:{connection_params['password']}@{connection_params['host']}/{connection_params['database']}\")\n",
    "\n",
    "# convert the DataFrame to a SQL table\n",
    "df_main.to_sql('Thoracic_main', engine, if_exists=\"replace\", index=False)\n",
    "df_followup.to_sql('Thoracic_followup', engine, if_exists=\"replace\", index=False)\n",
    "df_format.to_sql('Thoracic_format', engine, if_exists=\"replace\", index=False)\n",
    "# close the SQLAlchemy engine\n",
    "engine.dispose()"
   ]
  }
 ],
 "metadata": {
  "kernelspec": {
   "display_name": "Python [conda env:depaul]",
   "language": "python",
   "name": "conda-env-depaul-py"
  },
  "language_info": {
   "codemirror_mode": {
    "name": "ipython",
    "version": 3
   },
   "file_extension": ".py",
   "mimetype": "text/x-python",
   "name": "python",
   "nbconvert_exporter": "python",
   "pygments_lexer": "ipython3",
   "version": "3.11.8"
  }
 },
 "nbformat": 4,
 "nbformat_minor": 5
}
