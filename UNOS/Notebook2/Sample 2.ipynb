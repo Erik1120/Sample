{
 "cells": [
  {
   "cell_type": "markdown",
   "id": "7fcbaed7-86b3-4c8b-8793-1d0e85af26e0",
   "metadata": {},
   "source": [
    "#### A recursive function is a function that calls itself in order to solve a problem. The function typically has two main parts:\n",
    "- Base Case: This stops the recursion once a certain condition is met. Without it, the function would keep calling itself infinitely.\n",
    "- Recursive Case: This reduces the original problem to smaller instances, with each call moving closer to the base case.\n",
    "##### How It Works\n",
    "- Imagine you have a problem that can be broken down into similar smaller problems. Instead of solving each one from scratch, a recursive function calls itself to handle each of these subproblems until it reaches the simplest form (the base case). At that point, the function stops calling itself and the results propagate back through the chain of calls."
   ]
  },
  {
   "cell_type": "markdown",
   "id": "49fc3270-b6da-4f89-a7cb-191d1526e6f3",
   "metadata": {},
   "source": [
    "#### Resources\n",
    "- https://www.w3schools.com/python/gloss_python_function_recursion.asp\n",
    "- https://www.programiz.com/python-programming/recursion\n",
    "- https://discuss.python.org/t/what-is-the-purpose-of-this-recursive-function/31942"
   ]
  },
  {
   "cell_type": "code",
   "execution_count": 1,
   "id": "23817c5a-c74e-405d-94a2-0f27f4ca428a",
   "metadata": {},
   "outputs": [],
   "source": [
    "def factorial(n):\n",
    "    if n == 0:  # Base case\n",
    "        return 1\n",
    "    else:\n",
    "        return n * factorial(n - 1)  # Recursive call"
   ]
  },
  {
   "cell_type": "code",
   "execution_count": 2,
   "id": "a163a554-0058-4359-aeb1-87f4afe379aa",
   "metadata": {},
   "outputs": [
    {
     "data": {
      "text/plain": [
       "6"
      ]
     },
     "execution_count": 2,
     "metadata": {},
     "output_type": "execute_result"
    }
   ],
   "source": [
    "factorial(3)"
   ]
  },
  {
   "cell_type": "markdown",
   "id": "943f1671-fa68-43ef-8548-ed5255fcee12",
   "metadata": {},
   "source": [
    "#### Print Format\n",
    "- https://www.geeksforgeeks.org/python-output-formatting/"
   ]
  },
  {
   "cell_type": "code",
   "execution_count": 3,
   "id": "0494c9c5-329c-4d44-a993-2d9b2e48bdc9",
   "metadata": {},
   "outputs": [
    {
     "name": "stdout",
     "output_type": "stream",
     "text": [
      "This is a test with 123 with  Testing !\n"
     ]
    }
   ],
   "source": [
    "a, b = 123, \" Testing !\"\n",
    "print(f\"This is a test with {a} with {b}\")"
   ]
  },
  {
   "cell_type": "code",
   "execution_count": 4,
   "id": "b4842a24-e65e-4f8b-8b8c-88b763d3bc21",
   "metadata": {},
   "outputs": [
    {
     "name": "stdout",
     "output_type": "stream",
     "text": [
      "Visiting test01.txt\n"
     ]
    }
   ],
   "source": [
    "file='test01.txt'\n",
    "print(f\"Visiting {file}\")"
   ]
  },
  {
   "cell_type": "markdown",
   "id": "54c06767-67f5-49bf-a538-29583662743a",
   "metadata": {},
   "source": [
    "#### Reading a File\n",
    "- https://www.w3schools.com/python/python_file_open.asp\n",
    "- https://www.freecodecamp.org/news/with-open-in-python-with-statement-syntax-example/"
   ]
  },
  {
   "cell_type": "code",
   "execution_count": 5,
   "id": "d9afb9aa-c185-4238-9561-ac737bc7ee09",
   "metadata": {},
   "outputs": [
    {
     "name": "stdout",
     "output_type": "stream",
     "text": [
      "This is a test file!\n",
      "Hello\n",
      "Test\n",
      "Bye\n"
     ]
    }
   ],
   "source": [
    "# Reading a text file using the with statement\n",
    "file_path = 'test.txt'\n",
    "\n",
    "with open(file_path, 'r') as file:\n",
    "    content = file.read()  # Reads the entire file content as a single string\n",
    "    print(content)"
   ]
  },
  {
   "cell_type": "code",
   "execution_count": 6,
   "id": "e2ccd5d1-cee9-4251-9390-020c16264ca7",
   "metadata": {},
   "outputs": [
    {
     "name": "stdout",
     "output_type": "stream",
     "text": [
      "This is a test file!\n",
      "\n"
     ]
    }
   ],
   "source": [
    "# Specify the path to your text file\n",
    "file_path = 'test.txt'\n",
    "\n",
    "# Open the file\n",
    "file = open(file_path, 'r')  # Open the file in read mode\n",
    "\n",
    "# Read the entire content of the file\n",
    "content = file.readline()\n",
    "\n",
    "# Print the content of the file\n",
    "print(content)\n",
    "\n",
    "# Close the file\n",
    "file.close()  # It's important to close the file to free up resources"
   ]
  },
  {
   "cell_type": "markdown",
   "id": "f6909933-8e71-4e36-928e-723bc8720f05",
   "metadata": {},
   "source": [
    "### Exercise 3"
   ]
  },
  {
   "cell_type": "markdown",
   "id": "4960cbb0-7d4a-4f9e-8fd3-41f6ae055e84",
   "metadata": {},
   "source": [
    "##### Pascal's triangle\n",
    "- https://en.wikipedia.org/wiki/Pascal%27s_triangle"
   ]
  },
  {
   "cell_type": "markdown",
   "id": "f63c4b69-5a04-4087-8943-73f2ceb4506a",
   "metadata": {},
   "source": [
    "Start from the top row (0th row) by writing just number 1. In the corresponding rows, the new square in the pascal triangle is going to be the sum of squares directly above this square and touching it. For example, finding the sum of square row 4 and column 2 is the sum of the square of row 3 column 1 and row 3 column 2. So the square of row 4 column 2 has a value 1 + 2 = 3."
   ]
  },
  {
   "cell_type": "markdown",
   "id": "d02f1a29-6f3a-487c-9cd3-3fb7b15e3a85",
   "metadata": {},
   "source": [
    "![Image description](image1.png)"
   ]
  },
  {
   "cell_type": "markdown",
   "id": "6592bbea-62f9-424c-9dfb-7f22272d041e",
   "metadata": {},
   "source": [
    "#### Explanation:\n",
    "    - Outer Loop: Iterates n times, each time creating a new row in Pascal’s Triangle.\n",
    "    - Row Initialization: Each row starts with 1 on both ends.\n",
    "    - Inner Loop: For elements in between the edges, each entry is the sum of the two numbers directly above it from the previous row."
   ]
  },
  {
   "cell_type": "markdown",
   "id": "1b991653-80a8-40ff-994b-7350ab0b8d30",
   "metadata": {},
   "source": [
    "Iterative Construction:\n",
    "- Initialize the triangle with the first row 1.\n",
    "- For each new row:\n",
    "- Create a new list starting with 1.\n",
    "- Add pairs of adjacent numbers from the previous row to get middle values.\n",
    "- End the row with 1.\n",
    "- Add this new row to the triangle."
   ]
  },
  {
   "cell_type": "code",
   "execution_count": 7,
   "id": "4b229fe9-07fb-43dd-a63b-90d943751d1b",
   "metadata": {},
   "outputs": [],
   "source": [
    "def pascals_triangle(n):\n",
    "    # initialize empty list\n",
    "    triangle = []\n",
    "\n",
    "    # iterate\n",
    "    for i in range(n):\n",
    "        # start each row with 1\n",
    "        row = [1] * (i + 1)\n",
    "        \n",
    "        # calculate the inner elements of each row\n",
    "        for j in range(1, i):\n",
    "            row[j] = triangle[i - 1][j - 1] + triangle[i - 1][j]\n",
    "\n",
    "        # list of list for each element\n",
    "        triangle.append(row)\n",
    "\n",
    "    return triangle"
   ]
  },
  {
   "cell_type": "code",
   "execution_count": 8,
   "id": "6d60a165-9599-4f1f-ba1f-280b0266c6af",
   "metadata": {},
   "outputs": [
    {
     "data": {
      "text/plain": [
       "[[1], [1, 1], [1, 2, 1], [1, 3, 3, 1], [1, 4, 6, 4, 1]]"
      ]
     },
     "execution_count": 8,
     "metadata": {},
     "output_type": "execute_result"
    }
   ],
   "source": [
    "pascals_triangle(5)"
   ]
  },
  {
   "cell_type": "markdown",
   "id": "bfbcb1ff-03ee-4b63-8821-2a34c0edf5a8",
   "metadata": {},
   "source": [
    "### Exercise 4 - TIPS\n",
    "- https://www.geeksforgeeks.org/what-is-a-modulo-operator-in-python/\n",
    "\n",
    "FYI: \n",
    "- Immediate Fail Condition: Modulo operator to ensures that the string's length is even, as any valid nesting of pairs requires an even number of characters.\n",
    "- Base Case:\n",
    "    - If s becomes an empty string after successive removals of outer pairs, it is a valid nesting.\n",
    "- Recursive Check:\n",
    "    - If the string starts with '(' and ends with ')', the function recurs on the substring s[1:-1], removing the outermost pair. If at any point the string does not meet this condition, it returns False.\n",
    "    - if s[0] == '(' and s[-1] == ')' <- Recursive check"
   ]
  },
  {
   "cell_type": "code",
   "execution_count": 9,
   "id": "7acaf454-45aa-49b6-b90c-68b4c07e9f58",
   "metadata": {},
   "outputs": [
    {
     "name": "stdout",
     "output_type": "stream",
     "text": [
      "1\n",
      "0\n"
     ]
    }
   ],
   "source": [
    "# odd numbers can NOT be nested pair\n",
    "s = 5\n",
    "t = 12\n",
    "\n",
    "# display\n",
    "print(s % 2)\n",
    "print(t % 2)"
   ]
  }
 ],
 "metadata": {
  "kernelspec": {
   "display_name": "RFSurvival",
   "language": "python",
   "name": "survival_env"
  },
  "language_info": {
   "codemirror_mode": {
    "name": "ipython",
    "version": 3
   },
   "file_extension": ".py",
   "mimetype": "text/x-python",
   "name": "python",
   "nbconvert_exporter": "python",
   "pygments_lexer": "ipython3",
   "version": "3.9.20"
  }
 },
 "nbformat": 4,
 "nbformat_minor": 5
}
