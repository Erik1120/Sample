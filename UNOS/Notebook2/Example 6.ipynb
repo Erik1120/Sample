{
 "cells": [
  {
   "cell_type": "markdown",
   "id": "4e661b75-c115-4c2c-8ca3-a42221c79e1f",
   "metadata": {},
   "source": [
    "#### 2.  (5 points) Consider relation R(A,B,C,D) with functional dependencies:\n",
    "\n",
    "A --> B, C --> D, BC --> A\n",
    "\n",
    "- Is R already in 2NF? Show complete working for your conclusion. "
   ]
  },
  {
   "cell_type": "markdown",
   "id": "511fc322-248b-402b-af2a-f9dbaaac42a6",
   "metadata": {},
   "source": [
    "#### Key Concepts\n",
    "- Prime Attributes: Attributes that are part of at least one candidate key. They help in uniquely identifying records in a table.\n",
    "- Non-Prime Attributes: Attributes that are not included in any candidate key. These attributes do not contribute to the unique identification of records."
   ]
  },
  {
   "cell_type": "markdown",
   "id": "5f9774e6-65e2-4f3e-88ba-545884484e0d",
   "metadata": {},
   "source": [
    "#### To determine whether relation `R(A,B,C,D)` is in `2NF`\n",
    "##### Step 1: Ensure the Relation is in First Normal Form (1NF):\n",
    "- Since 2NF requires the relation to first satisfy the conditions of 1NF (i.e., atomic values, uniqueness) and then ensure there are no partial dependencies on the candidate key. If a relation violates 1NF, it cannot be in 2NF, as 2NF builds on 1NF. So, let's assume \"a relation is in 2NF\".\n",
    "\n",
    "##### Step 2: Identify the candidate keys\n",
    "- The functional dependency BC → A tells us that BC together can determine A.\n",
    "- Since A can determine B (A → B)\n",
    "- we have BC → A → B\n",
    "  - BC can determine both A and B\n",
    "    - C → D therefore C can determine D\n",
    "- Therefore, `BC` can determine all the attributes in the relation: `A, B, C, and D` hence, BC is a candidate key for the relation.\n",
    "    ##### Checking other combinations\n",
    "        - Single attributes like A, B, or C alone cannot uniquely identify all attributes in the relation.\n",
    "\n",
    "##### Step 3: Classify Attributes\n",
    "- Classify the attributes into prime attributes and non-prime attributes:\n",
    "    - Prime Attributes: Attributes that are part of any candidate key.\n",
    "        - Prime Attributes: B,C\n",
    "    - Non-Prime Attributes: Attributes that are not part of any candidate key.\n",
    "        - Non-Prime Attributes: A,D\n",
    "     \n",
    "##### Step 4: Check for Partial Dependencies\n",
    "- A relation is in 2NF if all non-prime attributes are fully functionally dependent on the entire candidate key, meaning no non-prime attribute depends on only a part of a composite candidate key.\n",
    "    - Examine Functional Dependencies:\n",
    "        - From A → B:\n",
    "            - **B is a prime attribute and does not affect 2NF since it does not violate the rule regarding non-prime attributes.**\n",
    "        - From C → D:\n",
    "            - This indicates that knowing just C allows us to determine D. Since C is part of the candidate key and does not depend on both parts of the candidate key (BC), this indicates a partial dependency.\n",
    "        - From BC → A:\n",
    "            - This dependency involves both parts of the candidate key and thus satisfies the condition for 2NF.\n",
    "         \n",
    "\n",
    "#### Therefore  `R(A,B,C,D)` is NOT in 2NF \n"
   ]
  },
  {
   "cell_type": "markdown",
   "id": "3cd9865e-5ad5-41b5-a8ed-f5cb2658ce78",
   "metadata": {},
   "source": [
    "#### 3. (10 points) Consider relation R(A,B,C,D) with functional dependencies:\n",
    "\n",
    "A --> B, C --> D, AD --> C\n",
    "\n",
    "- Decompose R into Third Normal Form (3 NF). Show complete working.\n",
    "\n",
    "- Then state whether the following set of functional dependencies are violating or not.\n",
    "    - (i) A --> B\n",
    "    - (ii) C --> D\n",
    "    - (iii) AD --> C"
   ]
  },
  {
   "cell_type": "markdown",
   "id": "7500ddaa-a9d5-4f7d-8bc3-2317746def50",
   "metadata": {},
   "source": [
    "#### Decompose relation R(A,B,C,D) into Third Normal Form (3NF) step by step:\n",
    "\n",
    "##### Step 1: Identify Candidate Keys\n",
    "- Identify candidate keys:\n",
    "    - A → B: A, we can get B\n",
    "    - C → D: C, we can get D\n",
    "    - AD → C: AD, we can get C\n",
    "        - The combination of attributes AD can uniquely identify all attributes in the relation therefore candidate key is AD.\n",
    "     \n",
    "- Checking for other candidate keys:\n",
    "    - We can observe that AD is the minimal combination that determines all other attributes, so it is the only candidate key.\n",
    " \n",
    "##### Step 2: Identify prime and non-prime attributes\n",
    "- Prime attributes: A, D (part of the candidate key)\n",
    "- Non-prime attributes: B, C\n",
    "\n",
    "##### Step 3: Check for 2NF violations (partial dependencies)\n",
    "- We have a partial dependency: A → B (B depends on the part of the candidate key), which violates 2NF, so we need to decompose.\n",
    "\n",
    "##### Step 4: Decompose to achieve 2NF\n",
    "- To remove the partial dependency A → B, we decompose the relation R(A,B,C,D) into two relations:\n",
    "    - First Relation: $R_{1}(A,B)$ with the functional dependency A → B\n",
    "    - Second Relation: $R_{2}(A,C,D)$ with the functional dependencies AD → C and C → D\n",
    "\n",
    "- Decomposing:\n",
    "    - $R_{1}(A,B)$\n",
    "    - $R_{2}(A,C,D)$\n",
    "\n",
    "##### Step 5: Check for 3NF violations (transitive dependencies)\n",
    "- In $R_{2}$, we have a transitive dependency: AD → C → D; thus, this violates 3NF, so we need to decompose further.\n",
    "\n",
    "##### Step 6: Final decomposition to 3NF\n",
    "- Decompose based on (A → B):\n",
    "    - Create a new relation $R_{1}$(A,B) with the functional dependency (A → B).\n",
    "- Decompose based on (C → D):\n",
    "    - Create a new relation $R_{2}$(C,D) with the functional dependency (C → D).\n",
    "- Decompose based on (AD → C):\n",
    "    - Create a new relation $R_{3}$(A,D,C) with the functional dependency (AD → C).\n",
    " \n",
    "\n",
    "#### 3NF (Third Normal Form):\n",
    "- $R_{1}$(A,B)\n",
    "- $R_{2}$(C,D)\n",
    "- $R_{3}$(A,D,C)\n",
    "\n",
    "\n",
    "\n",
    "#### Checking Functional Dependencies:\n",
    "- (i) (A → B): This dependency is preserved in ($R_{1}$(A, B))\n",
    "- (ii) (C → D): This dependency is preserved in ($R_{2}$(C, D))\n",
    "- (iii) (AD → C): This dependency is preserved in ($R_{3}$(A, D, C))"
   ]
  },
  {
   "cell_type": "markdown",
   "id": "d012a2c0-4246-4dea-937b-fb59ded39268",
   "metadata": {},
   "source": [
    "#### 5. (10 points) Consider a relation R(A,B,C,D,E). Is R in Boyce-Codd Normal Form (BCNF) for the following F:\n",
    "\n",
    "- (i) BDE --> A, AC --> E, B --> C, DE --> A\n",
    "- (ii) BCD -->E, BDE --> C, BE --> D, BE --> A"
   ]
  },
  {
   "cell_type": "markdown",
   "id": "6a245df4-fc9b-412f-855e-bf9f2e9b2857",
   "metadata": {},
   "source": [
    "##### To determine if the relation R(A, B, C, D, E) is in Boyce-Codd Normal Form (BCNF), we need to check if, for every non-trivial functional dependency `(X  → Y)`, `X`  is a superkey (a set of attributes that uniquely identifies all attributes in the relation).\n",
    "- A superkey in database management systems (DBMS) is a set of one or more attributes (columns) that can uniquely identify a record (row) in a relation (table).\n",
    "    - Key points about superkeys:\n",
    "        - It's used to uniquely identify tuples (rows) in a database table.\n",
    "        - A superkey can contain more attributes than necessary for unique identification.\n",
    "        - All candidate keys are superkeys, but not all superkeys are candidate keys.\n",
    "        - The set of all attributes in a table is always a superkey (called the trivial superkey).\n",
    "        - Superkeys ensure data integrity and help establish relationships between tables."
   ]
  },
  {
   "cell_type": "markdown",
   "id": "f72ae0b5-67fd-47d9-8174-8b72b1a368d9",
   "metadata": {},
   "source": [
    "#### (i) BDE → A, AC → E, B → C, DE → A\n",
    "##### Step 1: Identify the candidate key(s)\n",
    "- `BDE → A` and `DE → A`, we can infer that `BDE` and `DE` are potential candidate keys.\n",
    "- `B → C`, `B` alone cannot be a candidate key because it does not determine all attributes.\n",
    "- `AC → E`, `AC` alone cannot be a candidate key because it does not determine all attributes.\n",
    "\n",
    "##### Step 2: Check each functional dependency:\n",
    "- `BDE → A`: `BDE` is a superkey (candidate key), so this dependency does not violate BCNF.\n",
    "- `AC → E`: `AC` is not a superkey, and E is not part of any candidate key, so this dependency violates BCNF.\n",
    "- `B → C`: `B` is not a superkey, and C is not part of any candidate key, so this dependency violates BCNF.\n",
    "- `DE → A`: `DE` is a superkey (candidate key), so this dependency does not violate BCNF.\n",
    "\n",
    "#### R(A, B, C, D, E) is not in BCNF because the dependencies `AC → E` and `B → C` violate BCNF."
   ]
  },
  {
   "cell_type": "markdown",
   "id": "86504f83-f384-48c2-87db-2667baa1cfa6",
   "metadata": {},
   "source": [
    "#### (ii) BCD -> E, BDE -> C, BE -> D, BE -> A\n",
    "#### Step 1: Identify candidate keys:\n",
    "- `BE -> D` and `BE -> A`, we can infer that `BE` is a candidate key.\n",
    "- `BCD -> E`, `BCD` alone cannot be a candidate key because it does not determine all attributes.\n",
    "- `BDE -> C`, `BDE` alone cannot be a candidate key because it does not determine all attributes.\n",
    "\n",
    "#### Step 2: Check each functional dependency:\n",
    "- `BCD -> E`: `BCD` is not a superkey, and E is not part of any candidate key, so this dependency violates BCNF.\n",
    "- `BDE -> C`: `BDE` is not a superkey, and C is not part of any candidate key, so this dependency violates BCNF.\n",
    "- `BE -> D`: `BE` is a superkey (candidate key), so this dependency does not violate BCNF.\n",
    "- `BE -> A`: `BE` is a superkey (candidate key), so this dependency does not violate BCNF.\n",
    "\n",
    "#### `R(A, B, C, D, E)` is not in BCNF because the dependencies `BCD-> E` and `BDE -> C` violate BCNF."
   ]
  },
  {
   "cell_type": "code",
   "execution_count": null,
   "id": "12c5f296-63c2-42f9-bc73-c80a4516027f",
   "metadata": {},
   "outputs": [],
   "source": []
  }
 ],
 "metadata": {
  "kernelspec": {
   "display_name": "DePaul",
   "language": "python",
   "name": "myenv"
  },
  "language_info": {
   "codemirror_mode": {
    "name": "ipython",
    "version": 3
   },
   "file_extension": ".py",
   "mimetype": "text/x-python",
   "name": "python",
   "nbconvert_exporter": "python",
   "pygments_lexer": "ipython3",
   "version": "3.9.20"
  }
 },
 "nbformat": 4,
 "nbformat_minor": 5
}
