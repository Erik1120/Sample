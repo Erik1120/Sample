{
 "cells": [
  {
   "cell_type": "markdown",
   "id": "123592db-c114-41b2-82e5-d0abdfd25e82",
   "metadata": {},
   "source": [
    "#### Feature Remove Description:\n",
    "- **SUD_DEATH**: HEART MEDICAL FACTORS: SUDDEN DEATH (pre 1/1/2007 for adult patients)\n",
    "    - Remove all the Patient that Died **(REMOVE)**\n",
    "- **SSDMF_DEATH_DATE**: SOCIAL SECURITY DEATH MASTER FILE DEATH DATE\n",
    "    - vertify not after transplant **(REMOVE)**\n",
    "- **LAST_INACT_REASON**: Candidate Reason for Last Inactive Status\n",
    "    - Investigate **(REMOVE?)**\n",
    "- **END_STAT**: CANDIDATE STATUS AT TRANSPLANT OFFER/REMOVALCURRENT TIME\n",
    "    - Investigate **(REMOVE?)**\n",
    "- **ACTIVATE_DATE**: ALLOCATION TIME BEGINNING DATE\n",
    "    - Investigate **(REMOVE?)**\n",
    "- **END_DATE**: EARLIEST OF DATES OF REMOVAL FROM WAITING LIST, TRANSPLANT, DEATH, OR TIME COPY OF DATA CREATED\n",
    "    - Investigate **(REMOVE?)**\n",
    "- **INIT_DATE**: BEGINNING DATE FOR REGISTRATION\n",
    "    - Investigate **(REMOVE?)**\n",
    "- **ETHNICITY**: RECIPIENT ETHNICITY (HISPANIC VS. NON-HISPANIC)\n",
    "    - **ETHCAT**: RECIPIENT ETHNICITY CATEGORY (Should be included in this Field)\n",
    "    - Investigate ETHNICITY **(REMOVE)**\n",
    "- **PT_CODE**: ENCRYPTED RECIPIENT IDENTIFIER **(REMOVE)**\n",
    "- **COMPOSITE_DEATH_DATE**: Composite Patient Death Date from OPTN or Verified from External Sources\n",
    "    - vertify not after transplant **(REMOVE)** \n",
    "- **REGION**: UNOS REGION WHERE TRANSPLANTED/LISTED  **(REMOVE)**\n",
    "- **WL_ID_CODE**: ENCRYPTED REGISTRATION IDENTIFIER  **(REMOVE)**\n",
    "- **VAL_DT_TCR**: TCR Validation Date\n",
    "    - Investigate **(REMOVE?)**\n",
    "- **ADMISSION_DATE**: RECIPIENT DATE OF ADMISSION TO TX CENTER\n",
    "    - Investagate to determine ways to transform this field\n",
    "- **PRI_PAYMENT_TRR**: RECIPIENT PRIMARY PAYMENT SOURCE @ TRANSPLANT\n",
    "    - Investigate to determine ways to transform this field or remove\n",
    "- **PERM_STATE_TRR**: RECIPIENT STATE OF RESIDENCY  @ TRANSPLANT\n",
    "    - Should we categoized by region and create a new features\n",
    "- **COD**: 'RECIPIENT PRIMARY CAUSE OF DEATH\n",
    "    - **COD_OSTXT**: RECIPIENT PRIMARY CAUSE OF DEATH - OTHER SPECIFY\n",
    "    - **COD2**: RECIPIENT CONTRIBUTORY CAUSE OF DEATH 1\n",
    "    - Investigate and decide which feature to keep or remove all\n",
    "- **GSTATUS**: GRAFT FAILED (1=YES)\n",
    "- **GTIME**: GRAFT LIFESPAN-Days From Transplant to Failure/Death/Last Follow-Up\n",
    "- **LASTFUNO**: LAST FOLLOWUP NUMBER\n",
    "- **PX_STAT**: RECIPIENT STATUS(Died, ReTX, Lost, Alive)\n",
    "    - Investigate **(REMOVE?)**\n",
    "- **TX_PROCEDUR_TY**: RECIPIENT PROCEDURE TYPE - CALCULATED (possible value somewhere else and all except for 9 are one value)\n",
    "- **DONOR_ID**: ENCRYPTED DONOR IDENTIFIER **(REMOVE)**\n",
    "- **CTR_CODE**: ENCRYPTED REMOVAL/CURRENT OPO MAPPED FROM LISTING CENTER AND ENDING DATE **(REMOVE)**\n",
    "- **OPO_CTR_CODE**: ENCRYPTED INITIAL OPO MAPPED FROM LISTING CENTER AND BEGINNING DATE  **(REMOVE)**\n",
    "- **INIT_OPO_CTR_CODE**: ENCRYPTED INITIAL OPO MAPPED FROM LISTING CENTER AND BEGINNING DATE **(REMOVE)**\n",
    "- **LISTING_CTR_CODE**: ENCRYPTED WL LISTING CENTER **(REMOVE)**"
   ]
  },
  {
   "cell_type": "markdown",
   "id": "88c14c87-6798-4938-b229-b1a217b493c1",
   "metadata": {},
   "source": [
    "#### Feature Description:\n",
    "\n",
    "\n",
    "- **PRI_PAYMENT_TCR**: RECIPIENT PRIMARY PROJECTED PAYMENT TYPE @ REGISTRATION **(REMOVE)**\n",
    "- **SUD_DEATH**: HEART MEDICAL FACTORS: SUDDEN DEATH (pre 1/1/2007 for adult patients) Remove all the Patient that Died **(REMOVE)**\n",
    "- **SSDMF_DEATH_DATE**: **(REMOVE)**\n",
    "- **ETHNICITY**: RECIPIENT ETHNICITY (HISPANIC VS. NON-HISPANIC)\n",
    "- **ETHCAT**: RECIPIENT ETHNICITY CATEGORY\n",
    "    - Remove ETHNICITY\n",
    "- **ACTIVATE_DATE**: ALLOCATION TIME BEGINNING DATE **(REMOVE)**\n",
    "- **PT_CODE**: ENCRYPTED RECIPIENT IDENTIFIER **(REMOVE)**\n",
    "- **WL_ID_CODE**: ENCRYPTED REGISTRATION IDENTIFIER **(REMOVE)**\n",
    "    - **INIT_LLU_FLG**: LUNG PREFERENCE AT LISTING - LEFT (1=Y) No Value added **(REMOVE?)**\n",
    "    - **INIT_RLU_FLG**: LUNG PREFERENCE AT LISTING - RIGHT (1=Y) No Value added **(REMOVE?)**\n",
    "    - **INIT_BLU_FLG**: LUNG PREFERENCE AT LISTING - BOTH (1=Y) No Value added **(REMOVE?)**\n",
    "    - **END_LLU_FLG**: LUNG PREFERENCE AT REMOVAL/CURRENT TIME/ TCR - LEFT (1=Y) No Value added **(REMOVE?)**\n",
    "    - **END_RLU_FLG**: LUNG PREFERENCE AT REMOVAL/CURRENT TIME/ TCR - RIGHT (1=Y) No Value added **(REMOVE?)**\n",
    "    - **END_BLU_FLG**: LUNG PREFERENCE AT REMOVAL/CURRENT TIME/ TCR - BOTH (1=Y) No Value added **(REMOVE?)**\n",
    "- **CTR_CODE**: ENCRYPTED INITIAL OPO MAPPED FROM LISTING CENTER AND BEGINNING DATE  No Value added **(REMOVE)**\n",
    "- **OPO_CTR_CODE**: ENCRYPTED OPO CENTER CODE (OPO OF THE DECEASED DONOR RECOVERY FROM DDR FORM) No Value added **(REMOVE)**\n",
    "- **INIT_OPO_CTR_CODE**: ENCRYPTED INITIAL OPO MAPPED FROM LISTING CENTER AND BEGINNING DATE No Value added **(REMOVE)**"
   ]
  },
  {
   "cell_type": "markdown",
   "id": "e6790c6a-1eab-4fb3-919f-01a538f6d129",
   "metadata": {},
   "source": [
    "#### Feature Description:\n",
    "- **PT_CODE**: ENCRYPTED RECIPIENT IDENTIFIER **(REMOVE)**\n",
    "- **WL_ID_CODE**: ENCRYPTED REGISTRATION IDENTIFIER **(REMOVE)**\n",
    "    - **INIT_LLU_FLG**: LUNG PREFERENCE AT LISTING - LEFT (1=Y) No Value added **(REMOVE?)**\n",
    "    - **INIT_RLU_FLG**: LUNG PREFERENCE AT LISTING - RIGHT (1=Y) No Value added **(REMOVE?)**\n",
    "    - **INIT_BLU_FLG**: LUNG PREFERENCE AT LISTING - BOTH (1=Y) No Value added **(REMOVE?)**\n",
    "    - **END_LLU_FLG**: LUNG PREFERENCE AT REMOVAL/CURRENT TIME/ TCR - LEFT (1=Y) No Value added **(REMOVE?)**\n",
    "    - **END_RLU_FLG**: LUNG PREFERENCE AT REMOVAL/CURRENT TIME/ TCR - RIGHT (1=Y) No Value added **(REMOVE?)**\n",
    "    - **END_BLU_FLG**: LUNG PREFERENCE AT REMOVAL/CURRENT TIME/ TCR - BOTH (1=Y) No Value added **(REMOVE?)**\n",
    "- **CTR_CODE**: ENCRYPTED INITIAL OPO MAPPED FROM LISTING CENTER AND BEGINNING DATE  No Value added **(REMOVE)**\n",
    "- **OPO_CTR_CODE**: ENCRYPTED OPO CENTER CODE (OPO OF THE DECEASED DONOR RECOVERY FROM DDR FORM) No Value added **(REMOVE)**\n",
    "- **INIT_OPO_CTR_CODE**: ENCRYPTED INITIAL OPO MAPPED FROM LISTING CENTER AND BEGINNING DATE No Value added **(REMOVE)**\n",
    "- **LISTING_CTR_CODE**: ENCRYPTED WL LISTING CENTER No Value added **(REMOVE)**"
   ]
  }
 ],
 "metadata": {
  "kernelspec": {
   "display_name": "Python [conda env:myenv]",
   "language": "python",
   "name": "conda-env-myenv-py"
  },
  "language_info": {
   "codemirror_mode": {
    "name": "ipython",
    "version": 3
   },
   "file_extension": ".py",
   "mimetype": "text/x-python",
   "name": "python",
   "nbconvert_exporter": "python",
   "pygments_lexer": "ipython3",
   "version": "3.11.9"
  }
 },
 "nbformat": 4,
 "nbformat_minor": 5
}
