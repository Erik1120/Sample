{
 "cells": [
  {
   "cell_type": "code",
   "execution_count": 8,
   "id": "0419d927-0001-4f7a-84f6-ab4d1d47ffa2",
   "metadata": {},
   "outputs": [
    {
     "data": {
      "text/plain": [
       "(numpy.ndarray, (137,), pandas.core.frame.DataFrame, (137, 6))"
      ]
     },
     "execution_count": 8,
     "metadata": {},
     "output_type": "execute_result"
    }
   ],
   "source": [
    "type(data_y), data_y.shape, type(data_x), data_x.shape"
   ]
  },
  {
   "cell_type": "code",
   "execution_count": 11,
   "id": "46122d92-455c-4339-9325-dfe8c50e4f2d",
   "metadata": {},
   "outputs": [
    {
     "data": {
      "text/plain": [
       "(True, 42.)"
      ]
     },
     "execution_count": 11,
     "metadata": {},
     "output_type": "execute_result"
    }
   ],
   "source": [
    "data_y[10]"
   ]
  },
  {
   "cell_type": "code",
   "execution_count": 10,
   "id": "174dc457-9a1b-4622-8902-39e73bc09940",
   "metadata": {},
   "outputs": [
    {
     "data": {
      "text/plain": [
       "(True, 72.)"
      ]
     },
     "execution_count": 10,
     "metadata": {},
     "output_type": "execute_result"
    }
   ],
   "source": [
    "data_y[0]"
   ]
  },
  {
   "cell_type": "code",
   "execution_count": 2,
   "id": "abe1589c-c69b-481d-97b2-70be213f5ae3",
   "metadata": {},
   "outputs": [
    {
     "name": "stdout",
     "output_type": "stream",
     "text": [
      "   Age_in_years  Celltype  Karnofsky_score  Months_from_Diagnosis  \\\n",
      "0          69.0  squamous             60.0                    7.0   \n",
      "1          64.0  squamous             70.0                    5.0   \n",
      "2          38.0  squamous             60.0                    3.0   \n",
      "3          63.0  squamous             60.0                    9.0   \n",
      "4          65.0  squamous             70.0                   11.0   \n",
      "\n",
      "  Prior_therapy Treatment  \n",
      "0            no  standard  \n",
      "1           yes  standard  \n",
      "2            no  standard  \n",
      "3           yes  standard  \n",
      "4           yes  standard  \n",
      "Age_in_years              float64\n",
      "Celltype                 category\n",
      "Karnofsky_score           float64\n",
      "Months_from_Diagnosis     float64\n",
      "Prior_therapy            category\n",
      "Treatment                category\n",
      "dtype: object\n",
      "   Age_in_years  Karnofsky_score  Months_from_Diagnosis  Celltype_large  \\\n",
      "0          69.0             60.0                    7.0           False   \n",
      "1          64.0             70.0                    5.0           False   \n",
      "2          38.0             60.0                    3.0           False   \n",
      "3          63.0             60.0                    9.0           False   \n",
      "4          65.0             70.0                   11.0           False   \n",
      "\n",
      "   Celltype_smallcell  Celltype_squamous  Prior_therapy_yes  Treatment_test  \n",
      "0               False               True              False           False  \n",
      "1               False               True               True           False  \n",
      "2               False               True              False           False  \n",
      "3               False               True               True           False  \n",
      "4               False               True               True           False  \n"
     ]
    },
    {
     "data": {
      "image/png": "[encoded data removed]",
      "text/plain": [
       "<Figure size 640x480 with 1 Axes>"
      ]
     },
     "metadata": {},
     "output_type": "display_data"
    }
   ],
   "source": [
    "import numpy as np\n",
    "import pandas as pd\n",
    "import matplotlib.pyplot as plt\n",
    "from sksurv.ensemble import RandomSurvivalForest\n",
    "from sksurv.datasets import load_veterans_lung_cancer\n",
    "\n",
    "# Load the Veterans' Lung Cancer dataset (available in sksurv)\n",
    "data_x, data_y = load_veterans_lung_cancer()\n",
    "\n",
    "# Convert the structured array to a DataFrame for easier manipulation\n",
    "data_x = pd.DataFrame(data_x)\n",
    "\n",
    "# Inspect the dataset\n",
    "print(data_x.head())\n",
    "\n",
    "# Identify categorical columns (e.g., 'celltype')\n",
    "print(data_x.dtypes)\n",
    "\n",
    "# One-hot encode the categorical columns (e.g., 'celltype')\n",
    "data_x_encoded = pd.get_dummies(data_x, drop_first=True)\n",
    "\n",
    "# Print the first few rows to check the transformation\n",
    "print(data_x_encoded.head())\n",
    "\n",
    "# Create a Random Survival Forest model\n",
    "rsf = RandomSurvivalForest(n_estimators=100, min_samples_split=10, random_state=42)\n",
    "\n",
    "# Fit the model using the encoded data and survival labels (time and event)\n",
    "rsf.fit(data_x_encoded, data_y)\n",
    "\n",
    "# Predict survival functions for the first few instances\n",
    "pred_surv = rsf.predict_survival_function(data_x_encoded.iloc[:5])\n",
    "\n",
    "# Plot the survival functions for the first instance\n",
    "time_points = np.arange(0, 400, 5)\n",
    "for fn in pred_surv:\n",
    "    plt.step(time_points, fn(time_points), where=\"post\")\n",
    "plt.xlabel(\"Time\")\n",
    "plt.ylabel(\"Survival Probability\")\n",
    "plt.show()\n",
    "\n"
   ]
  },
  {
   "cell_type": "code",
   "execution_count": null,
   "id": "4a147e2a-3749-437f-9cca-b696420cf88a",
   "metadata": {},
   "outputs": [],
   "source": []
  }
 ],
 "metadata": {
  "kernelspec": {
   "display_name": "RFSurvival",
   "language": "python",
   "name": "survival_env"
  },
  "language_info": {
   "codemirror_mode": {
    "name": "ipython",
    "version": 3
   },
   "file_extension": ".py",
   "mimetype": "text/x-python",
   "name": "python",
   "nbconvert_exporter": "python",
   "pygments_lexer": "ipython3",
   "version": "3.9.20"
  }
 },
 "nbformat": 4,
 "nbformat_minor": 5
}
